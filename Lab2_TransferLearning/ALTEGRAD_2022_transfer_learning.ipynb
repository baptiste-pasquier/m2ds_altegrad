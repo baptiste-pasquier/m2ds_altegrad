{
 "cells": [
  {
   "cell_type": "markdown",
   "metadata": {
    "id": "DlAfI8mCWAf3"
   },
   "source": [
    "<center><h2>ALTeGraD 2022<br>Lab Session 2: Transfer learning for NLP</h2> 27 / 10 / 2022<br> M. Kamal Eddine, H. Abdine<br><br>\n",
    "\n",
    "\n",
    "<b>Student name:</b> [fill me]\n",
    "\n",
    "</center>\n",
    "\n",
    "<br><br>\n",
    "In this lab we will:\n",
    "* Implement and pretrain a language model with transformer architecture.\n",
    "* Use the pretrained model (transfer learning) to perform a sentiment analysis task which consists of classifying some books reviews into positive and negative ones.\n",
    "* Compare the performance of the pretrained model to a model trained from scratch.\n",
    " <br>\n",
    " \n",
    "<b>The deadline for this lab is November 14, 2022 11:59 PM.</b> More details about the submission and the architecture for this lab can be found in the handout PDF."
   ]
  },
  {
   "cell_type": "code",
   "execution_count": 1,
   "metadata": {
    "id": "IqukuIe0Rb_c"
   },
   "outputs": [],
   "source": [
    "import math\n",
    "\n",
    "import torch\n",
    "import torch.nn as nn\n",
    "from torch.nn.utils.rnn import pad_sequence\n",
    "\n",
    "device = torch.device(\"cuda\" if torch.cuda.is_available() else \"cpu\")"
   ]
  },
  {
   "cell_type": "markdown",
   "metadata": {
    "id": "5FF6fjkqgN39"
   },
   "source": [
    "### The Model"
   ]
  },
  {
   "cell_type": "code",
   "execution_count": 2,
   "metadata": {
    "id": "p0cj9WkSFQwl"
   },
   "outputs": [],
   "source": [
    "class TransformerModel(nn.Module):\n",
    "    def __init__(self, ntoken, nhead, nhid, nlayers, dropout=0.5):\n",
    "        super(TransformerModel, self).__init__()\n",
    "        \"\"\"\n",
    "        ntokens: the size of vocabulary\n",
    "        nhid: the hidden dimension of the model.\n",
    "        We assume that embedding_dim = nhid\n",
    "        nlayers: the number of nn.TransformerEncoderLayer in nn.TransformerEncoder\n",
    "        nhead: the number of heads in the multiheadattention models\n",
    "        dropout: the dropout value\n",
    "         \"\"\"\n",
    "        self.model_type = \"Transformer\"\n",
    "        self.encoder = nn.Embedding(ntoken, nhid)  # fill me, nhid = the dim_embed\n",
    "        self.pos_encoder = PositionalEncoding(\n",
    "            nhid\n",
    "        )  # fill me, the PositionalEncoding class is implemented in the next cell\n",
    "        encoder_layers = nn.TransformerEncoderLayer(\n",
    "            nhid, nhead, nhid\n",
    "        )  # fill me we assume nhid = d_model = dim_feedforward\n",
    "        self.transformer_encoder = nn.TransformerEncoder(\n",
    "            encoder_layers, num_layers=nlayers\n",
    "        )  # fill me\n",
    "        self.nhid = nhid\n",
    "        self.init_weights()\n",
    "\n",
    "    def generate_square_subsequent_mask(self, sz):\n",
    "        mask = (torch.triu(torch.ones(sz, sz)) == 1).transpose(0, 1)\n",
    "        mask = (\n",
    "            mask.float()\n",
    "            .masked_fill(mask == 0, float(\"-inf\"))\n",
    "            .masked_fill(mask == 1, float(0.0))\n",
    "        )\n",
    "        return mask\n",
    "\n",
    "    def init_weights(self):\n",
    "        initrange = 0.1\n",
    "        self.encoder.weight.data.uniform_(-initrange, initrange)\n",
    "\n",
    "    def forward(self, src, src_mask):\n",
    "        src = self.encoder(src) * math.sqrt(self.nhid)\n",
    "        src = self.pos_encoder(src)  # fill me\n",
    "        output = self.transformer_encoder(src, src_mask)  # fill me\n",
    "        return output\n",
    "\n",
    "\n",
    "class ClassificationHead(nn.Module):\n",
    "    def __init__(self, nhid, nclasses):\n",
    "        super(ClassificationHead, self).__init__()\n",
    "        self.decoder = nn.Linear(nhid, nclasses)  # fill me)\n",
    "        self.init_weights()\n",
    "\n",
    "    def init_weights(self):\n",
    "        initrange = 0.1\n",
    "        self.decoder.bias.data.zero_()\n",
    "        self.decoder.weight.data.uniform_(-initrange, initrange)\n",
    "\n",
    "    def forward(self, src):\n",
    "        output = self.decoder(src)\n",
    "        return output\n",
    "\n",
    "\n",
    "class Model(nn.Module):\n",
    "    def __init__(self, ntoken, nhead, nhid, nlayers, nclasses, dropout=0.5):\n",
    "        super(Model, self).__init__()\n",
    "        self.base = TransformerModel(\n",
    "            ntoken=ntoken, nhead=nhead, nhid=nhid, nlayers=nlayers, dropout=dropout\n",
    "        )  # fill me\n",
    "        self.classifier = ClassificationHead(nhid=nhid, nclasses=nclasses)  # fill me\n",
    "\n",
    "    def forward(self, src, src_mask):\n",
    "        # base model\n",
    "        x = self.base(src, src_mask)  # fill me\n",
    "        # classifier model\n",
    "        output = self.classifier(x)  # fill me\n",
    "        return output"
   ]
  },
  {
   "cell_type": "code",
   "execution_count": 3,
   "metadata": {
    "id": "kt2QQohaFZry"
   },
   "outputs": [],
   "source": [
    "class PositionalEncoding(nn.Module):\n",
    "    def __init__(self, nhid, dropout=0.1, max_len=5000):\n",
    "        super(PositionalEncoding, self).__init__()\n",
    "        self.dropout = nn.Dropout(p=dropout)\n",
    "\n",
    "        pe = torch.zeros(max_len, nhid)\n",
    "        position = torch.arange(0, max_len, dtype=torch.float).unsqueeze(1)\n",
    "        div_term = torch.exp(\n",
    "            torch.arange(0, nhid, 2).float() * (-math.log(10000.0) / nhid)\n",
    "        )\n",
    "        pe[:, 0::2] = torch.sin(position * div_term)\n",
    "        pe[:, 1::2] = torch.cos(position * div_term)\n",
    "        pe = pe.unsqueeze(0).transpose(0, 1)\n",
    "        self.register_buffer(\"pe\", pe)\n",
    "\n",
    "    def forward(self, x):\n",
    "        x = x + self.pe[: x.size(0), :]\n",
    "        return self.dropout(x)"
   ]
  },
  {
   "cell_type": "markdown",
   "metadata": {
    "id": "SfEYHJx2JW6l"
   },
   "source": [
    "Let's verify if our model works, by applying one inference step"
   ]
  },
  {
   "cell_type": "code",
   "execution_count": 4,
   "metadata": {
    "id": "rhb2gkUhJMR0"
   },
   "outputs": [
    {
     "name": "stdout",
     "output_type": "stream",
     "text": [
      "torch.Size([1, 6, 100])\n"
     ]
    }
   ],
   "source": [
    "ntokens = 100  # the size of vocabulary\n",
    "nhid = 200  # hidden dimension\n",
    "nlayers = 4  # the number of nn.TransformerEncoderLayer in nn.TransformerEncoder\n",
    "nhead = 2  # the number of heads in the multiheadattention models\n",
    "dropout = 0  # the dropout value\n",
    "\n",
    "model = Model(ntokens, nhead, nhid, nlayers, ntokens, dropout).to(device)\n",
    "dummy_input = torch.tensor([[2, 6, 2, 5, 43, 21]]).to(device)\n",
    "src_mask = model.base.generate_square_subsequent_mask(1).to(device)\n",
    "out = model.forward(dummy_input, src_mask)\n",
    "\n",
    "print(out.shape)  # is it the right shape?"
   ]
  },
  {
   "cell_type": "markdown",
   "metadata": {
    "id": "i74NN897Fcit"
   },
   "source": [
    "## Vocabulary and Tokenization"
   ]
  },
  {
   "cell_type": "code",
   "execution_count": 5,
   "metadata": {
    "id": "5qjd26ghWuff"
   },
   "outputs": [
    {
     "name": "stdout",
     "output_type": "stream",
     "text": [
      "▁d 1\n",
      "es 1\n",
      "▁l 1\n",
      "en 1\n",
      "on 1\n"
     ]
    }
   ],
   "source": [
    "!wget https://raw.githubusercontent.com/moussaKam/transfer_learning_transformers/main/dict.txt\n",
    "!head -5 dict.txt"
   ]
  },
  {
   "cell_type": "code",
   "execution_count": 6,
   "metadata": {
    "id": "vFdH_-JeFbGA"
   },
   "outputs": [
    {
     "name": "stdout",
     "output_type": "stream",
     "text": [
      "▁trop\n"
     ]
    }
   ],
   "source": [
    "path_vocab = \"dict.txt\"\n",
    "token2ind = {\n",
    "    \"<sos>\": 0,\n",
    "    \"<pad>\": 1,\n",
    "    \"<eos>\": 2,\n",
    "    \"<oov>\": 3,\n",
    "}  # the 4 first indices are reserved to special tokens\n",
    "with open(path_vocab, \"r\") as f:\n",
    "    for idx, line in enumerate(f):\n",
    "        word = line.split()[0].strip()\n",
    "        token2ind[word] = idx + 4  # fill me\n",
    "\n",
    "ind2token = {value: key for key, value in token2ind.items()}  # fill me\n",
    "\n",
    "print(ind2token[1111])"
   ]
  },
  {
   "cell_type": "markdown",
   "metadata": {
    "id": "XOExGODajN8p"
   },
   "source": [
    "### Data Loader\n"
   ]
  },
  {
   "cell_type": "code",
   "execution_count": 7,
   "metadata": {
    "id": "Y0jN-Ar9i5Q1"
   },
   "outputs": [],
   "source": [
    "import numpy\n",
    "import torch\n",
    "from torch.nn.utils.rnn import pad_sequence\n",
    "from torch.utils.data import DataLoader, Dataset\n",
    "\n",
    "\n",
    "class Dataset(Dataset):\n",
    "    def __init__(\n",
    "        self,\n",
    "        path_documents,\n",
    "        path_labels=None,\n",
    "        token2ind={},\n",
    "        max_len=512,\n",
    "        task=\"language_modeling\",\n",
    "    ):\n",
    "        self.task = task\n",
    "        self.max_len = max_len\n",
    "        self.token2ind = token2ind\n",
    "        self.documents = []\n",
    "        self.labels = []\n",
    "        with open(path_documents, \"r\") as f1:\n",
    "            for line in f1:\n",
    "                self.documents.append(line.strip())\n",
    "        if task == \"classification\":\n",
    "            with open(path_labels, \"r\") as f1:\n",
    "                for line in f1:\n",
    "                    self.labels.append(int(line.strip()))\n",
    "            assert len(self.labels) == len(self.documents)\n",
    "\n",
    "    def __len__(self):\n",
    "        return len(self.documents)\n",
    "\n",
    "    def __getitem__(self, index):\n",
    "        sequence = self.documents[index].split()\n",
    "        if len(sequence) > self.max_len - 1:\n",
    "            sequence = sequence[: self.max_len - 1]\n",
    "        source_sequence = (\n",
    "            [self.token2ind[\"<sos>\"]]\n",
    "            + [self.token2ind.get(token, self.token2ind[\"<oov>\"]) for token in sequence]\n",
    "            + [self.token2ind[\"<eos>\"]]\n",
    "        )  # fill me (constract the input sequence using token2ind, sequence and special tokens)\n",
    "        if self.task == \"language_modeling\":\n",
    "            target = source_sequence[1:]\n",
    "            target.append(self.token2ind[\"<eos>\"])\n",
    "        elif self.task == \"classification\":\n",
    "            target = [self.labels[index]]\n",
    "        sample = {\n",
    "            \"source_sequence\": torch.tensor(source_sequence),\n",
    "            \"target\": torch.tensor(target),\n",
    "        }\n",
    "        return sample\n",
    "\n",
    "\n",
    "def MyCollator(batch):\n",
    "    source_sequences = pad_sequence(\n",
    "        # we use padding to match the length of the sequences in the same batch\n",
    "        [sample[\"source_sequence\"] for sample in batch],\n",
    "        padding_value=token2ind[\"<pad>\"],\n",
    "    )\n",
    "    target = pad_sequence(\n",
    "        [sample[\"target\"] for sample in batch], padding_value=token2ind[\"<pad>\"]\n",
    "    )\n",
    "    return source_sequences, target.reshape(-1)\n",
    "\n",
    "\n",
    "def get_loader(\n",
    "    path_documents,\n",
    "    path_labels=None,\n",
    "    token2ind={},\n",
    "    max_len=512,\n",
    "    batch_size=32,\n",
    "    task=\"language_modeling\",\n",
    "):\n",
    "    dataset = Dataset(\n",
    "        path_documents,\n",
    "        path_labels=path_labels,\n",
    "        token2ind=token2ind,\n",
    "        max_len=512,\n",
    "        task=task,\n",
    "    )\n",
    "    data_loader = DataLoader(\n",
    "        dataset=dataset,\n",
    "        batch_size=batch_size,\n",
    "        shuffle=True,\n",
    "        collate_fn=MyCollator,\n",
    "        pin_memory=True,\n",
    "        drop_last=True,\n",
    "    )\n",
    "    return data_loader"
   ]
  },
  {
   "cell_type": "markdown",
   "metadata": {
    "id": "uTns4lHrjUTa"
   },
   "source": [
    "## The Training"
   ]
  },
  {
   "cell_type": "code",
   "execution_count": 8,
   "metadata": {
    "id": "4_jwosiLjRsS"
   },
   "outputs": [],
   "source": [
    "def train(\n",
    "    path_data_train,\n",
    "    path_labels_train=None,\n",
    "    path_data_valid=None,\n",
    "    save_interval=-1,\n",
    "    log_interval=5,\n",
    "    task=\"language_modeling\",\n",
    "    batch_size=32,\n",
    "):\n",
    "    model.train()\n",
    "    total_loss = 0.0\n",
    "    ntokens = len(token2ind)\n",
    "    data_loader = get_loader(\n",
    "        path_data_train,\n",
    "        path_labels_train,\n",
    "        token2ind,\n",
    "        task=task,\n",
    "        batch_size=batch_size,\n",
    "    )\n",
    "\n",
    "    losses = []\n",
    "    for idx, data in enumerate(data_loader):  # step 1\n",
    "        optimizer.zero_grad()\n",
    "        src_mask = model.base.generate_square_subsequent_mask(data[0].size(0)).to(\n",
    "            device\n",
    "        )\n",
    "        input = data[0].to(device)\n",
    "        output = model(input, src_mask)  # step 2\n",
    "        if task == \"classification\":\n",
    "            # last vector only\n",
    "            output = output[-1, :, :]  # fill me\n",
    "        output = output.view(-1, output.shape[-1])\n",
    "        target = data[1]  # fill me\n",
    "        target = target.to(device)\n",
    "        loss = criterion(\n",
    "            nn.Softmax(dim=1)(output), target\n",
    "        )  # fill me, Cross entropy check next cells\n",
    "        loss.backward()  # fill me step 3\n",
    "\n",
    "        torch.nn.utils.clip_grad_norm_(\n",
    "            model.parameters(), 0.5\n",
    "        )  # prevent exploding gradient\n",
    "        optimizer.step()  # fill me step 4\n",
    "\n",
    "        total_loss += loss.item()\n",
    "        if idx % log_interval == 0 and idx > 0:\n",
    "            cur_loss = total_loss / log_interval\n",
    "            print(\n",
    "                \"| epoch {:3d} | {:5d}/{:5d} steps | \"\n",
    "                \"loss {:5.5f} | ppl {:8.3f}\".format(\n",
    "                    epoch,\n",
    "                    idx,\n",
    "                    len(data_loader),\n",
    "                    cur_loss,\n",
    "                    math.exp(cur_loss),\n",
    "                )\n",
    "            )\n",
    "            losses.append(cur_loss)\n",
    "            total_loss = 0\n",
    "    return losses"
   ]
  },
  {
   "cell_type": "code",
   "execution_count": 9,
   "metadata": {
    "id": "pgf6BDB9jUr6"
   },
   "outputs": [],
   "source": [
    "ntokens = len(token2ind)  # fill me # the size of vocabulary\n",
    "nhid = 200  # the dimension of the feedforward network model in nn.TransformerEncoder\n",
    "nlayers = 4  # the number of nn.TransformerEncoderLayer in nn.TransformerEncoder\n",
    "nhead = 2  # the number of heads in the multiheadattention models\n",
    "dropout = 0  # the dropout value\n",
    "\n",
    "nclasses = 2  # for classification task only\n",
    "\n",
    "model = Model(ntokens, nhead, nhid, nlayers, ntokens, dropout).to(device)"
   ]
  },
  {
   "cell_type": "code",
   "execution_count": 10,
   "metadata": {
    "id": "u-OLy4KIkDwf"
   },
   "outputs": [],
   "source": [
    "# optimization paramerters\n",
    "\n",
    "criterion = nn.CrossEntropyLoss(ignore_index=token2ind[\"<pad>\"])\n",
    "lr = 0.0003  # learning rate\n",
    "optimizer = torch.optim.Adam(model.parameters(), lr=lr)"
   ]
  },
  {
   "cell_type": "code",
   "execution_count": 11,
   "metadata": {
    "id": "Bwh3n9xZQy4e"
   },
   "outputs": [],
   "source": [
    "!wget https://raw.githubusercontent.com/moussaKam/transfer_learning_transformers/main/pretraining_subset.txt\n",
    "path_data_train = \"pretraining_subset.txt\""
   ]
  },
  {
   "cell_type": "code",
   "execution_count": 12,
   "metadata": {
    "id": "0m11g4ScjZaR"
   },
   "outputs": [
    {
     "name": "stdout",
     "output_type": "stream",
     "text": [
      "| epoch   1 |   500/ 3125 steps | loss 10.77519 | ppl 47819.425\n",
      "| epoch   1 |  1000/ 3125 steps | loss 10.75190 | ppl 46718.641\n",
      "| epoch   1 |  1500/ 3125 steps | loss 10.75181 | ppl 46714.529\n",
      "| epoch   1 |  2000/ 3125 steps | loss 10.75191 | ppl 46718.963\n",
      "| epoch   1 |  2500/ 3125 steps | loss 10.75225 | ppl 46734.979\n",
      "| epoch   1 |  3000/ 3125 steps | loss 10.75197 | ppl 46722.025\n",
      "| epoch   2 |   500/ 3125 steps | loss 10.77282 | ppl 47706.562\n",
      "| epoch   2 |  1000/ 3125 steps | loss 10.75166 | ppl 46707.376\n",
      "| epoch   2 |  1500/ 3125 steps | loss 10.75166 | ppl 46707.668\n",
      "| epoch   2 |  2000/ 3125 steps | loss 10.75227 | ppl 46736.223\n",
      "| epoch   2 |  2500/ 3125 steps | loss 10.75242 | ppl 46742.958\n",
      "| epoch   2 |  3000/ 3125 steps | loss 10.75214 | ppl 46729.918\n"
     ]
    }
   ],
   "source": [
    "# pretraining on a tiny subset\n",
    "log_interval = 500\n",
    "epochs = 2\n",
    "for epoch in range(1, epochs + 1):  # 5\n",
    "    train(\n",
    "        path_data_train,\n",
    "        save_interval=-1,\n",
    "        task=\"language_modeling\",  # fill me\n",
    "        batch_size=16,\n",
    "        log_interval=log_interval,\n",
    "    )"
   ]
  },
  {
   "cell_type": "markdown",
   "metadata": {
    "id": "MeOM1dOvkO4e"
   },
   "source": [
    "## Text Generation\n"
   ]
  },
  {
   "cell_type": "code",
   "execution_count": 13,
   "metadata": {
    "id": "-BcBC6FSkMH3"
   },
   "outputs": [
    {
     "data": {
      "text/plain": [
       "<All keys matched successfully>"
      ]
     },
     "execution_count": 13,
     "metadata": {},
     "output_type": "execute_result"
    }
   ],
   "source": [
    "!wget https://raw.githubusercontent.com/moussaKam/transfer_learning_transformers/main/pretrained_model_4layers.pt\n",
    "\n",
    "model = Model(ntokens, nhead, nhid, nlayers, ntokens).to(device)\n",
    "\n",
    "# load the checkpoint\n",
    "checkpoint = torch.load(\"pretrained_model_4layers.pt\")\n",
    "# load state dict\n",
    "model.load_state_dict(checkpoint[\"model_state_dict\"])"
   ]
  },
  {
   "cell_type": "code",
   "execution_count": 14,
   "metadata": {
    "id": "tBRRVsWqlIoQ"
   },
   "outputs": [
    {
     "name": "stdout",
     "output_type": "stream",
     "text": [
      "['▁Bonjour', '▁les', '▁amis', '!']\n",
      "Bonjour les amis!\n"
     ]
    }
   ],
   "source": [
    "# !pip install sentencepiece   # uncomment this if you are using google colab\n",
    "!wget https://raw.githubusercontent.com/moussaKam/transfer_learning_transformers/main/sentencepiece.french.model\n",
    "\n",
    "import sentencepiece as spm\n",
    "\n",
    "s = spm.SentencePieceProcessor(\n",
    "    model_file=\"sentencepiece.french.model\"\n",
    ")  # load sentencepiece model\n",
    "\n",
    "# examples\n",
    "encoded = s.encode_as_pieces(\"Bonjour les amis!\")\n",
    "decoded = s.decode_pieces(encoded)\n",
    "print(encoded)\n",
    "print(decoded)"
   ]
  },
  {
   "cell_type": "code",
   "execution_count": 15,
   "metadata": {
    "id": "TtLlV05pkQI3"
   },
   "outputs": [],
   "source": [
    "def infer_next_token(sent):\n",
    "    model.eval()\n",
    "    sent_pieces = s.encode_as_pieces(sent)\n",
    "    source = [token2ind[\"<sos>\"]] + [\n",
    "        token2ind[el] for el in sent_pieces\n",
    "    ]  # list of tokens\n",
    "    source = torch.tensor(source).to(device)\n",
    "    source = source.reshape(-1, 1)\n",
    "    src_mask = model.base.generate_square_subsequent_mask(source.size(0)).to(device)\n",
    "    out = model(source, src_mask)\n",
    "    next_token_ind = out[-1].argmax().item()  # fill me\n",
    "    return next_token_ind, out\n",
    "\n",
    "\n",
    "def infer_next_tokens(sent, max_len=50):\n",
    "    # to be implemented\n",
    "    new_tokens = []\n",
    "    new_sent = sent\n",
    "    while len(new_tokens) < max_len:\n",
    "        next_token_ind, _ = infer_next_token(new_sent)\n",
    "        next_token = ind2token[next_token_ind]\n",
    "        if next_token == \"<eos>\":\n",
    "            return new_sent\n",
    "        else:\n",
    "            new_tokens.append(next_token)\n",
    "            new_sent = sent + \" \" + s.decode_pieces(new_tokens)\n",
    "\n",
    "    return new_sent"
   ]
  },
  {
   "cell_type": "code",
   "execution_count": 16,
   "metadata": {
    "id": "f83Nn5nSly4v"
   },
   "outputs": [
    {
     "data": {
      "text/plain": [
       "'Bonjour les gens qui ont été très accueillants et sympathiques.'"
      ]
     },
     "execution_count": 16,
     "metadata": {},
     "output_type": "execute_result"
    }
   ],
   "source": [
    "sent = \"Bonjour les\"\n",
    "infer_next_tokens(sent)"
   ]
  },
  {
   "cell_type": "markdown",
   "metadata": {
    "id": "Lp7mjVzomoZ3"
   },
   "source": [
    "### Supervised task"
   ]
  },
  {
   "cell_type": "code",
   "execution_count": 17,
   "metadata": {
    "id": "0K1BZsblmEmx"
   },
   "outputs": [],
   "source": [
    "!wget https://raw.githubusercontent.com/moussaKam/transfer_learning_transformers/main/cls-books/train.review.spm\n",
    "!wget https://raw.githubusercontent.com/moussaKam/transfer_learning_transformers/main/cls-books/train.label\n",
    "!wget https://raw.githubusercontent.com/moussaKam/transfer_learning_transformers/main/cls-books/test.review.spm\n",
    "!wget https://raw.githubusercontent.com/moussaKam/transfer_learning_transformers/main/cls-books/test.label\n",
    "\n",
    "path_data_train = \"train.review.spm\"\n",
    "path_labels_train = \"train.label\"\n",
    "\n",
    "path_data_valid = \"test.review.spm\"\n",
    "path_labels_valid = \"test.label\""
   ]
  },
  {
   "cell_type": "code",
   "execution_count": 18,
   "metadata": {
    "id": "_MLfvjiom2SL"
   },
   "outputs": [],
   "source": [
    "# a function to evaluate the validation accuracy of the model.\n",
    "def evaluate_accuracy(data_loader, verbose=True):\n",
    "    # to be implemented\n",
    "    model.eval()\n",
    "    total_loss = 0.0\n",
    "    ncorrect = ntotal = 0\n",
    "    with torch.no_grad():\n",
    "        for idx, data in enumerate(data_loader):\n",
    "            # inference\n",
    "            input = data[0].to(device)\n",
    "            src_mask = model.base.generate_square_subsequent_mask(data[0].size(0)).to(\n",
    "                device\n",
    "            )\n",
    "            output = model(input, src_mask)\n",
    "\n",
    "            output = output[-1, :, :]\n",
    "\n",
    "            predictions = output.argmax(dim=1)\n",
    "\n",
    "            ntotal += predictions.shape[0]\n",
    "\n",
    "            ncorrect += torch.sum(predictions.ravel() == data[1].to(device))\n",
    "        acc = ncorrect.item() / ntotal\n",
    "        if verbose:\n",
    "            print(\"validation accuracy: {:3.2f}\".format(acc * 100))\n",
    "        return acc"
   ]
  },
  {
   "cell_type": "code",
   "execution_count": 19,
   "metadata": {
    "id": "qzmx7T7xoa6v"
   },
   "outputs": [],
   "source": [
    "# save the base model to be loaded later in the fine-tuning phase\n",
    "torch.save(\n",
    "    {\n",
    "        \"model_state_dict\": model.base.state_dict(),\n",
    "    },\n",
    "    \"pretrained_model_4layers_no_class_head.pt\",\n",
    ")"
   ]
  },
  {
   "cell_type": "code",
   "execution_count": 20,
   "metadata": {
    "id": "i-xclMCpnVpw"
   },
   "outputs": [
    {
     "name": "stdout",
     "output_type": "stream",
     "text": [
      "=====Trainig FROM SCRATCH======\n",
      "| epoch   1 |    50/  200 steps | loss 0.72815 | ppl    2.071\n",
      "| epoch   1 |   100/  200 steps | loss 0.70931 | ppl    2.033\n",
      "| epoch   1 |   150/  200 steps | loss 0.70648 | ppl    2.027\n",
      "validation accuracy: 55.55\n",
      "| epoch   2 |    50/  200 steps | loss 0.69575 | ppl    2.005\n",
      "| epoch   2 |   100/  200 steps | loss 0.66903 | ppl    1.952\n",
      "| epoch   2 |   150/  200 steps | loss 0.61428 | ppl    1.848\n",
      "validation accuracy: 59.85\n",
      "| epoch   3 |    50/  200 steps | loss 0.54687 | ppl    1.728\n",
      "| epoch   3 |   100/  200 steps | loss 0.52108 | ppl    1.684\n",
      "| epoch   3 |   150/  200 steps | loss 0.55583 | ppl    1.743\n",
      "validation accuracy: 67.70\n",
      "| epoch   4 |    50/  200 steps | loss 0.45026 | ppl    1.569\n",
      "| epoch   4 |   100/  200 steps | loss 0.43022 | ppl    1.538\n",
      "| epoch   4 |   150/  200 steps | loss 0.41432 | ppl    1.513\n",
      "validation accuracy: 73.65\n",
      "| epoch   5 |    50/  200 steps | loss 0.35672 | ppl    1.429\n",
      "| epoch   5 |   100/  200 steps | loss 0.36374 | ppl    1.439\n",
      "| epoch   5 |   150/  200 steps | loss 0.39172 | ppl    1.480\n",
      "validation accuracy: 74.80\n",
      "| epoch   6 |    50/  200 steps | loss 0.35553 | ppl    1.427\n",
      "| epoch   6 |   100/  200 steps | loss 0.35149 | ppl    1.421\n",
      "| epoch   6 |   150/  200 steps | loss 0.34798 | ppl    1.416\n",
      "validation accuracy: 75.35\n",
      "| epoch   7 |    50/  200 steps | loss 0.35366 | ppl    1.424\n",
      "| epoch   7 |   100/  200 steps | loss 0.32905 | ppl    1.390\n",
      "| epoch   7 |   150/  200 steps | loss 0.34037 | ppl    1.405\n",
      "validation accuracy: 74.45\n",
      "| epoch   8 |    50/  200 steps | loss 0.34314 | ppl    1.409\n",
      "| epoch   8 |   100/  200 steps | loss 0.33849 | ppl    1.403\n",
      "| epoch   8 |   150/  200 steps | loss 0.33040 | ppl    1.392\n",
      "validation accuracy: 74.20\n",
      "| epoch   9 |    50/  200 steps | loss 0.33248 | ppl    1.394\n",
      "| epoch   9 |   100/  200 steps | loss 0.33125 | ppl    1.393\n",
      "| epoch   9 |   150/  200 steps | loss 0.32337 | ppl    1.382\n",
      "validation accuracy: 74.35\n",
      "| epoch  10 |    50/  200 steps | loss 0.34059 | ppl    1.406\n",
      "| epoch  10 |   100/  200 steps | loss 0.33510 | ppl    1.398\n",
      "| epoch  10 |   150/  200 steps | loss 0.33842 | ppl    1.403\n",
      "validation accuracy: 75.75\n",
      "| epoch  11 |    50/  200 steps | loss 0.33442 | ppl    1.397\n",
      "| epoch  11 |   100/  200 steps | loss 0.32940 | ppl    1.390\n",
      "| epoch  11 |   150/  200 steps | loss 0.33195 | ppl    1.394\n",
      "validation accuracy: 75.40\n",
      "| epoch  12 |    50/  200 steps | loss 0.33802 | ppl    1.402\n",
      "| epoch  12 |   100/  200 steps | loss 0.31828 | ppl    1.375\n",
      "| epoch  12 |   150/  200 steps | loss 0.32635 | ppl    1.386\n",
      "validation accuracy: 74.75\n",
      "| epoch  13 |    50/  200 steps | loss 0.34001 | ppl    1.405\n",
      "| epoch  13 |   100/  200 steps | loss 0.32882 | ppl    1.389\n",
      "| epoch  13 |   150/  200 steps | loss 0.32087 | ppl    1.378\n",
      "validation accuracy: 74.40\n",
      "| epoch  14 |    50/  200 steps | loss 0.32438 | ppl    1.383\n",
      "| epoch  14 |   100/  200 steps | loss 0.32330 | ppl    1.382\n",
      "| epoch  14 |   150/  200 steps | loss 0.32327 | ppl    1.382\n",
      "validation accuracy: 74.10\n",
      "| epoch  15 |    50/  200 steps | loss 0.32935 | ppl    1.390\n",
      "| epoch  15 |   100/  200 steps | loss 0.32077 | ppl    1.378\n",
      "| epoch  15 |   150/  200 steps | loss 0.33434 | ppl    1.397\n",
      "validation accuracy: 76.20\n",
      "\n",
      "=====PRETRAINED MODEL======\n",
      "| epoch   1 |    50/  200 steps | loss 0.70831 | ppl    2.031\n",
      "| epoch   1 |   100/  200 steps | loss 0.67496 | ppl    1.964\n",
      "| epoch   1 |   150/  200 steps | loss 0.59823 | ppl    1.819\n",
      "validation accuracy: 73.95\n",
      "| epoch   2 |    50/  200 steps | loss 0.56582 | ppl    1.761\n",
      "| epoch   2 |   100/  200 steps | loss 0.54296 | ppl    1.721\n",
      "| epoch   2 |   150/  200 steps | loss 0.53382 | ppl    1.705\n",
      "validation accuracy: 77.20\n",
      "| epoch   3 |    50/  200 steps | loss 0.48637 | ppl    1.626\n",
      "| epoch   3 |   100/  200 steps | loss 0.48908 | ppl    1.631\n",
      "| epoch   3 |   150/  200 steps | loss 0.48783 | ppl    1.629\n",
      "validation accuracy: 77.10\n",
      "| epoch   4 |    50/  200 steps | loss 0.43280 | ppl    1.542\n",
      "| epoch   4 |   100/  200 steps | loss 0.45991 | ppl    1.584\n",
      "| epoch   4 |   150/  200 steps | loss 0.48052 | ppl    1.617\n",
      "validation accuracy: 75.85\n",
      "| epoch   5 |    50/  200 steps | loss 0.43216 | ppl    1.541\n",
      "| epoch   5 |   100/  200 steps | loss 0.44270 | ppl    1.557\n",
      "| epoch   5 |   150/  200 steps | loss 0.45903 | ppl    1.583\n",
      "validation accuracy: 76.90\n",
      "| epoch   6 |    50/  200 steps | loss 0.41287 | ppl    1.511\n",
      "| epoch   6 |   100/  200 steps | loss 0.43104 | ppl    1.539\n",
      "| epoch   6 |   150/  200 steps | loss 0.42206 | ppl    1.525\n",
      "validation accuracy: 77.75\n",
      "| epoch   7 |    50/  200 steps | loss 0.43045 | ppl    1.538\n",
      "| epoch   7 |   100/  200 steps | loss 0.42052 | ppl    1.523\n",
      "| epoch   7 |   150/  200 steps | loss 0.40898 | ppl    1.505\n",
      "validation accuracy: 78.15\n",
      "| epoch   8 |    50/  200 steps | loss 0.37692 | ppl    1.458\n",
      "| epoch   8 |   100/  200 steps | loss 0.44526 | ppl    1.561\n",
      "| epoch   8 |   150/  200 steps | loss 0.39375 | ppl    1.483\n",
      "validation accuracy: 78.10\n",
      "| epoch   9 |    50/  200 steps | loss 0.41974 | ppl    1.522\n",
      "| epoch   9 |   100/  200 steps | loss 0.40809 | ppl    1.504\n",
      "| epoch   9 |   150/  200 steps | loss 0.38663 | ppl    1.472\n",
      "validation accuracy: 78.80\n",
      "| epoch  10 |    50/  200 steps | loss 0.38903 | ppl    1.476\n",
      "| epoch  10 |   100/  200 steps | loss 0.40639 | ppl    1.501\n",
      "| epoch  10 |   150/  200 steps | loss 0.37155 | ppl    1.450\n",
      "validation accuracy: 77.70\n",
      "| epoch  11 |    50/  200 steps | loss 0.38090 | ppl    1.464\n",
      "| epoch  11 |   100/  200 steps | loss 0.38545 | ppl    1.470\n",
      "| epoch  11 |   150/  200 steps | loss 0.35555 | ppl    1.427\n",
      "validation accuracy: 77.85\n",
      "| epoch  12 |    50/  200 steps | loss 0.39631 | ppl    1.486\n",
      "| epoch  12 |   100/  200 steps | loss 0.36969 | ppl    1.447\n",
      "| epoch  12 |   150/  200 steps | loss 0.38178 | ppl    1.465\n",
      "validation accuracy: 77.15\n",
      "| epoch  13 |    50/  200 steps | loss 0.37849 | ppl    1.460\n",
      "| epoch  13 |   100/  200 steps | loss 0.35396 | ppl    1.425\n",
      "| epoch  13 |   150/  200 steps | loss 0.36596 | ppl    1.442\n",
      "validation accuracy: 79.30\n",
      "| epoch  14 |    50/  200 steps | loss 0.37027 | ppl    1.448\n",
      "| epoch  14 |   100/  200 steps | loss 0.38798 | ppl    1.474\n",
      "| epoch  14 |   150/  200 steps | loss 0.35543 | ppl    1.427\n",
      "validation accuracy: 78.30\n",
      "| epoch  15 |    50/  200 steps | loss 0.36805 | ppl    1.445\n",
      "| epoch  15 |   100/  200 steps | loss 0.36682 | ppl    1.443\n",
      "| epoch  15 |   150/  200 steps | loss 0.37460 | ppl    1.454\n",
      "validation accuracy: 78.45\n",
      "\n"
     ]
    }
   ],
   "source": [
    "from_scratch_settings = [True, False]\n",
    "\n",
    "from_scratch_valid_acc = []\n",
    "pretrained_valid_acc = []\n",
    "lr = 0.0001\n",
    "\n",
    "for from_scratch in from_scratch_settings:\n",
    "    model = Model(ntokens, nhead, nhid, nlayers, 2, dropout).to(device)\n",
    "    criterion = nn.CrossEntropyLoss()\n",
    "    optimizer = torch.optim.Adam(model.parameters(), lr=lr)\n",
    "    if not from_scratch:\n",
    "        print(\"=====PRETRAINED MODEL======\")\n",
    "        # load checkpoint\n",
    "        checkpoint = torch.load(\"pretrained_model_4layers_no_class_head.pt\")\n",
    "        # load state dict\n",
    "        model.base.load_state_dict(checkpoint[\"model_state_dict\"])\n",
    "    else:\n",
    "        print(\"=====Trainig FROM SCRATCH======\")\n",
    "    epochs = 15\n",
    "    for epoch in range(1, epochs + 1):\n",
    "        train(\n",
    "            path_data_train,\n",
    "            path_labels_train,\n",
    "            save_interval=-1,\n",
    "            task=\"classification\",\n",
    "            batch_size=8,\n",
    "            log_interval=50,\n",
    "        )\n",
    "        acc = evaluate_accuracy(\n",
    "            get_loader(\n",
    "                path_data_valid,\n",
    "                path_labels_valid,\n",
    "                token2ind=token2ind,\n",
    "                batch_size=20,\n",
    "                task=\"classification\",\n",
    "            )\n",
    "        )\n",
    "        if from_scratch:\n",
    "            from_scratch_valid_acc.append(acc)\n",
    "        else:\n",
    "            pretrained_valid_acc.append(acc)\n",
    "    print()"
   ]
  },
  {
   "cell_type": "code",
   "execution_count": 21,
   "metadata": {
    "id": "RCpBIdTHojm6"
   },
   "outputs": [
    {
     "data": {
      "text/plain": [
       "<matplotlib.legend.Legend at 0x7f99e5411090>"
      ]
     },
     "execution_count": 21,
     "metadata": {},
     "output_type": "execute_result"
    },
    {
     "data": {
      "image/png": "[encoded data removed]",
      "text/plain": [
       "<Figure size 640x480 with 1 Axes>"
      ]
     },
     "metadata": {},
     "output_type": "display_data"
    }
   ],
   "source": [
    "# Visualize the accuracy\n",
    "\n",
    "import matplotlib.pyplot as plt\n",
    "\n",
    "plt.plot(from_scratch_valid_acc, label=\"FROM SCRATCH\")\n",
    "plt.plot(pretrained_valid_acc, label=\"PRETRAINED\")\n",
    "plt.grid()\n",
    "plt.ylabel(\"Validation accuracy\")\n",
    "plt.xlabel(\"Epoch\")\n",
    "plt.legend()"
   ]
  },
  {
   "cell_type": "code",
   "execution_count": null,
   "metadata": {},
   "outputs": [],
   "source": []
  }
 ],
 "metadata": {
  "accelerator": "GPU",
  "colab": {
   "collapsed_sections": [],
   "name": "ALTEGRAD_2020_transfer_learning.ipynb",
   "provenance": []
  },
  "kernelspec": {
   "display_name": "Python 3.10.7 ('m2ds-altegrad-ikUkGiM0-py3.10')",
   "language": "python",
   "name": "python3"
  },
  "language_info": {
   "codemirror_mode": {
    "name": "ipython",
    "version": 3
   },
   "file_extension": ".py",
   "mimetype": "text/x-python",
   "name": "python",
   "nbconvert_exporter": "python",
   "pygments_lexer": "ipython3",
   "version": "3.10.7"
  },
  "vscode": {
   "interpreter": {
    "hash": "d314033c92c59146dc96a5803a32fdd7cb71bb9b4b5487fe4a3964e1ceb72c8c"
   }
  }
 },
 "nbformat": 4,
 "nbformat_minor": 0
}
