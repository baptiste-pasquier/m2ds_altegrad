{
 "cells": [
  {
   "cell_type": "markdown",
   "metadata": {
    "id": "MuVouapRmjEW"
   },
   "source": [
    "<center><h2>ALTeGraD 2022<br>Lab Session 1: HAN</h2><h3>Hierarchical Attention Network Using GRU</h3> 27 / 10 / 2022<br> M. Kamal Eddine, H. Abdine<br><br>\n",
    "\n",
    "\n",
    "<b>Student name:</b> Baptiste PASQUIER\n",
    "\n",
    "\n",
    "</center>\n",
    "In this lab, you will get familiar with recurrent neural networks (RNNs), self-attention, and the HAN architecture <b>(Yang et al. 2016)</b> using PyTorch. In this architecture, sentence embeddings are first individually produced, and a document embedding is then computed from the sentence embeddings.<br>\n",
    "<b>The deadline for this lab is November 14, 2022 11:59 PM.</b> More details about the submission and the architecture for this lab can be found in the handout PDF.\n"
   ]
  },
  {
   "cell_type": "markdown",
   "metadata": {
    "id": "xJaSJaIP1xRy"
   },
   "source": [
    "### = = = = =  Attention Layer = = = = =\n",
    "In thi section, you will fill the gaps in the code to implement the self-attention layer. This layer will be used later to define the HAN architecture. The basic idea behind attention is that rather than considering the last annotation $h_T$ as a summary of the entire sequence, which is prone to information loss, the annotations at <i>all</i> time steps are used.\n",
    "The self-attention mechanism computes a weighted sum of the annotations, where the weights are determined by trainable parameters. Refer to <b>section 2.2</b> in the handout for the theoretical part, it will be needed to finish the first task.\n",
    "\n",
    "#### <b>Task 1:</b>"
   ]
  },
  {
   "cell_type": "code",
   "execution_count": 1,
   "metadata": {
    "id": "yoM7H0KQncpF"
   },
   "outputs": [],
   "source": [
    "import torch\n",
    "from torch import nn\n",
    "from torch.utils.data import DataLoader\n",
    "\n",
    "\n",
    "class AttentionWithContext(nn.Module):\n",
    "    \"\"\"\n",
    "    Follows the work of Yang et al. [https://www.cs.cmu.edu/~diyiy/docs/naacl16.pdf]\n",
    "    \"Hierarchical Attention Networks for Document Classification\"\n",
    "    by using a context vector to assist the attention\n",
    "    # Input shape\n",
    "        3D tensor with shape: `(samples, steps, features)`.\n",
    "    # Output shape\n",
    "        2D tensor with shape: `(samples, features)`.\n",
    "    \"\"\"\n",
    "\n",
    "    def __init__(self, input_shape, return_coefficients=False, bias=True):\n",
    "        super(AttentionWithContext, self).__init__()\n",
    "        self.return_coefficients = return_coefficients\n",
    "\n",
    "        self.W = nn.Linear(input_shape, input_shape, bias=bias)\n",
    "        self.tanh = nn.Tanh()\n",
    "        self.u = nn.Linear(input_shape, 1, bias=False)\n",
    "\n",
    "        self.init_weights()\n",
    "\n",
    "    def init_weights(self):\n",
    "        initrange = 0.1\n",
    "        self.W.weight.data.uniform_(-initrange, initrange)\n",
    "        self.W.bias.data.uniform_(-initrange, initrange)\n",
    "        self.u.weight.data.uniform_(-initrange, initrange)\n",
    "\n",
    "    def generate_square_subsequent_mask(self, sz):\n",
    "        # do not pass the mask to the next layers\n",
    "        mask = (torch.triu(torch.ones(sz, sz)) == 1).transpose(0, 1)\n",
    "        mask = (\n",
    "            mask.float()\n",
    "            .masked_fill(mask == 0, float(\"-inf\"))\n",
    "            .masked_fill(mask == 1, float(0.0))\n",
    "        )\n",
    "        return mask\n",
    "\n",
    "    def forward(self, x, mask=None):\n",
    "        uit = self.W(x)  # fill the gap # compute uit = W . x  where x represents ht\n",
    "        uit = self.tanh(uit)\n",
    "        ait = self.u(uit)\n",
    "        a = torch.exp(ait)\n",
    "\n",
    "        # apply mask after the exp. will be re-normalized next\n",
    "        if mask is not None:\n",
    "            a = a * mask.double()\n",
    "\n",
    "        # in some cases especially in the early stages of training the sum may be almost zero\n",
    "        # and this results in NaN's. A workaround is to add a very small positive number ε to the sum.\n",
    "        eps = 1e-9\n",
    "        a = a / (torch.sum(a, axis=1, keepdim=True) + eps)\n",
    "        weighted_input = torch.sum(\n",
    "            a * x, axis=1\n",
    "        )  ### fill the gap ### # compute the attentional vector\n",
    "        if self.return_coefficients:\n",
    "            return (\n",
    "                weighted_input,\n",
    "                a,\n",
    "            )  ### [attentional vector, coefficients] ### use torch.sum to compute s\n",
    "        else:\n",
    "            return weighted_input  ### attentional vector only ###"
   ]
  },
  {
   "cell_type": "markdown",
   "metadata": {
    "id": "DgTP6GrOHlss"
   },
   "source": [
    "### = = = = = Parameters = = = = =\n",
    "In this section, we define the parameters to use in our training. Such as data path, the embedding dimention <b>d</b>, the GRU layer dimensionality <b>n_units</b>, etc..<br>\n",
    "The parameter <b>device</b> is used to train the model on GPU if it is available. for this purpose, if you are using Google Colab, switch your runtime to a GPU runtime to train the model with a maximum speed.<br>\n",
    "<b>Bonus question:</b> What is the purpose of the parameter <i>my_patience</i>?"
   ]
  },
  {
   "cell_type": "code",
   "execution_count": 2,
   "metadata": {
    "id": "czsVjxgYnczb"
   },
   "outputs": [],
   "source": [
    "import sys\n",
    "import json\n",
    "import operator\n",
    "import numpy as np\n",
    "\n",
    "path_root = \"\"\n",
    "path_to_data = path_root + \"data/\"\n",
    "\n",
    "d = 30  # dimensionality of word embeddings\n",
    "n_units = 50  # RNN layer dimensionality\n",
    "drop_rate = 0.5  # dropout\n",
    "mfw_idx = 2  # index of the most frequent words in the dictionary\n",
    "# 0 is for the special padding token\n",
    "# 1 is for the special out-of-vocabulary token\n",
    "\n",
    "padding_idx = 0\n",
    "oov_idx = 1\n",
    "batch_size = 64\n",
    "nb_epochs = 15\n",
    "my_patience = 2  # for early stopping strategy\n",
    "device = torch.device(\"cuda\" if torch.cuda.is_available() else \"cpu\")"
   ]
  },
  {
   "cell_type": "markdown",
   "metadata": {
    "id": "K8Vot_C7Hlst"
   },
   "source": [
    "### = = = = = Data Loading = = = = =\n",
    "In this section we will use first <b>wget</b> to download the data the we will load it using numpy in the first cell. While in the second cell, we will use these data to define our Pytorch data loader. Note that the data is already preprocessed, tokenized and padded.<br><br>\n",
    "<b>Note: if you are running your notebook on Windows or on MacOS, <i>wget</i> will probably not work if you did not install it manually. In this case, use the provided link to download the data and change the <i>path_to_data</i> in the <i>Parameters</i> section accordingly. Otherwise, you will face no problem on Ubuntu and Google Colab.</b>\n",
    "\n",
    "#### <b>Task 2.1:</b>"
   ]
  },
  {
   "cell_type": "code",
   "execution_count": 3,
   "metadata": {
    "id": "UD6hRh0OHlst"
   },
   "outputs": [
    {
     "name": "stdout",
     "output_type": "stream",
     "text": [
      "--2022-11-13 21:48:56--  https://onedrive.live.com/download?cid=AE69638675180117&resid=AE69638675180117%2199289&authkey=AHgxt3xmgG0Fu5A\n",
      "Resolving onedrive.live.com (onedrive.live.com)... 13.107.42.13\n",
      "Connecting to onedrive.live.com (onedrive.live.com)|13.107.42.13|:443... connected.\n",
      "HTTP request sent, awaiting response... 302 Found\n",
      "Location: https://vqtlqw.am.files.1drv.com/y4m6dRTSBgX4XiUAx88JO9MbR7SE097F5DPC0vrTW_VV3rqZAeB7MrpUFKtBmIvr9tUFE64ioVDZep-7YtuHp7rGzcFcozJ3RlJXUHGHcVbuXWfIp72VqaVREH_uwwYx1n-ylRaPLlyn8VJICnPI1mCT8RVjCO35fZjB5jnAvlKp0HfNUkfxD1OAAip0Ra996tVdZYAbXXvPfC6FN55odZf-Q/data.zip?download&psid=1 [following]\n",
      "--2022-11-13 21:48:57--  https://vqtlqw.am.files.1drv.com/y4m6dRTSBgX4XiUAx88JO9MbR7SE097F5DPC0vrTW_VV3rqZAeB7MrpUFKtBmIvr9tUFE64ioVDZep-7YtuHp7rGzcFcozJ3RlJXUHGHcVbuXWfIp72VqaVREH_uwwYx1n-ylRaPLlyn8VJICnPI1mCT8RVjCO35fZjB5jnAvlKp0HfNUkfxD1OAAip0Ra996tVdZYAbXXvPfC6FN55odZf-Q/data.zip?download&psid=1\n",
      "Resolving vqtlqw.am.files.1drv.com (vqtlqw.am.files.1drv.com)... 13.107.42.12\n",
      "Connecting to vqtlqw.am.files.1drv.com (vqtlqw.am.files.1drv.com)|13.107.42.12|:443... connected.\n",
      "HTTP request sent, awaiting response... 416 Requested Range Not Satisfiable\n",
      "\n",
      "    The file is already fully retrieved; nothing to do.\n",
      "\n",
      "Archive:  data.zip\n",
      "  inflating: __MACOSX/._data         \n",
      "  inflating: data/labels_train.npy   \n",
      "  inflating: __MACOSX/data/._labels_train.npy  \n",
      "  inflating: data/docs_test.npy      \n",
      "  inflating: __MACOSX/data/._docs_test.npy  \n",
      "  inflating: data/labels_test.npy    \n",
      "  inflating: __MACOSX/data/._labels_test.npy  \n",
      "  inflating: data/word_to_index.json  \n",
      "  inflating: __MACOSX/data/._word_to_index.json  \n",
      "  inflating: data/docs_train.npy     \n",
      "  inflating: __MACOSX/data/._docs_train.npy  \n"
     ]
    }
   ],
   "source": [
    "!wget -c \"https://onedrive.live.com/download?cid=AE69638675180117&resid=AE69638675180117%2199289&authkey=AHgxt3xmgG0Fu5A\" -O \"data.zip\"\n",
    "!unzip -o data.zip\n",
    "\n",
    "my_docs_array_train = np.load(path_to_data + \"docs_train.npy\")\n",
    "my_docs_array_test = np.load(path_to_data + \"docs_test.npy\")\n",
    "\n",
    "my_labels_array_train = np.load(path_to_data + \"labels_train.npy\")\n",
    "my_labels_array_test = np.load(path_to_data + \"labels_test.npy\")\n",
    "\n",
    "# load dictionary of word indexes (sorted by decreasing frequency across the corpus)\n",
    "with open(path_to_data + \"word_to_index.json\", \"r\") as my_file:\n",
    "    word_to_index = json.load(my_file)\n",
    "\n",
    "# invert mapping\n",
    "index_to_word = {\n",
    "    value: key for key, value in word_to_index.items()\n",
    "}  ### fill the gap (use a dict comprehension) ###\n",
    "input_size = my_docs_array_train.shape"
   ]
  },
  {
   "cell_type": "code",
   "execution_count": 4,
   "metadata": {
    "id": "DpsCvmaiJfZc"
   },
   "outputs": [],
   "source": [
    "import numpy\n",
    "import torch\n",
    "from torch.utils.data import DataLoader, Dataset\n",
    "\n",
    "\n",
    "class Dataset_(Dataset):\n",
    "    def __init__(self, x, y):\n",
    "        self.documents = x\n",
    "        self.labels = y\n",
    "\n",
    "    def __len__(self):\n",
    "        return len(self.documents)\n",
    "\n",
    "    def __getitem__(self, index):\n",
    "        document = self.documents[index]\n",
    "        label = self.labels[index]\n",
    "        sample = {\n",
    "            \"document\": torch.tensor(document),\n",
    "            \"label\": torch.tensor(label),\n",
    "        }\n",
    "        return sample\n",
    "\n",
    "\n",
    "def get_loader(x, y, batch_size=32):\n",
    "    dataset = Dataset_(x, y)\n",
    "    data_loader = DataLoader(\n",
    "        dataset=dataset,\n",
    "        batch_size=batch_size,\n",
    "        shuffle=True,\n",
    "        pin_memory=True,\n",
    "        drop_last=True,\n",
    "    )\n",
    "    return data_loader"
   ]
  },
  {
   "cell_type": "markdown",
   "metadata": {
    "id": "6rzqEGOdHlst"
   },
   "source": [
    "### = = = = = Defining Architecture = = = = =\n",
    "In this section, we define the HAN architecture. We start with <i>AttentionBiGRU</i> module in order to define the sentence encoder (check Figure 3 in the handout). Then, we define the <i>TimeDistributed</i> module to allow us to forward our input (batch of document) as to the sentence encoder as <b>batch of sentences</b>, where each sentence in the document will be considered as a time step. This module also reshape the output to a batch of timesteps representations per document. Finally we define the <b>HAN</b> architecture using <i>TimeDistributed</i>, <i>AttentionWithContext</i> and <i>GRU</i>.\n",
    "\n",
    "#### <b>Task 2.2:</b>"
   ]
  },
  {
   "cell_type": "code",
   "execution_count": 5,
   "metadata": {
    "id": "AMj9j1_pHlst"
   },
   "outputs": [],
   "source": [
    "class AttentionBiGRU(nn.Module):\n",
    "    def __init__(self, input_shape, n_units, index_to_word, dropout=0):\n",
    "        super(AttentionBiGRU, self).__init__()\n",
    "        self.embedding = nn.Embedding(\n",
    "            len(index_to_word) + 2,  # fill the gap # vocab size\n",
    "            d,  # dimensionality of embedding space\n",
    "            padding_idx=0,\n",
    "        )\n",
    "        self.dropout = nn.Dropout(drop_rate)\n",
    "        self.gru = nn.GRU(\n",
    "            input_size=input_shape[2],\n",
    "            hidden_size=n_units,\n",
    "            num_layers=1,\n",
    "            bias=True,\n",
    "            batch_first=True,\n",
    "            bidirectional=True,\n",
    "        )\n",
    "        self.attention = AttentionWithContext(\n",
    "            n_units * 2,  # fill the gap # the input shape for the attention layer\n",
    "            return_coefficients=True,\n",
    "        )\n",
    "\n",
    "    def forward(self, sent_ints):\n",
    "        sent_wv = self.embedding(sent_ints)\n",
    "        sent_wv_dr = self.dropout(sent_wv)\n",
    "        sent_wa, _ = self.gru(sent_wv_dr)  # fill the gap # RNN layer\n",
    "        sent_att_vec, word_att_coeffs = self.attention(\n",
    "            sent_wa\n",
    "        )  # fill the gap # attentional vector for the sent\n",
    "        sent_att_vec_dr = self.dropout(sent_att_vec)\n",
    "        return sent_att_vec_dr, word_att_coeffs\n",
    "\n",
    "\n",
    "class TimeDistributed(nn.Module):\n",
    "    def __init__(self, module, batch_first=False):\n",
    "        super(TimeDistributed, self).__init__()\n",
    "        self.module = module\n",
    "        self.batch_first = batch_first\n",
    "\n",
    "    def forward(self, x):\n",
    "        if len(x.size()) <= 2:\n",
    "            return self.module(x)\n",
    "        # Squash samples and timesteps into a single axis\n",
    "        x_reshape = x.contiguous().view(\n",
    "            -1, x.size(-1)\n",
    "        )  # (samples * timesteps, input_size) (224, 30)\n",
    "        sent_att_vec_dr, word_att_coeffs = self.module(x_reshape)\n",
    "        # We have to reshape the output\n",
    "        if self.batch_first:\n",
    "            sent_att_vec_dr = sent_att_vec_dr.contiguous().view(\n",
    "                x.size(0), -1, sent_att_vec_dr.size(-1)\n",
    "            )  # (samples, timesteps, output_size)\n",
    "            word_att_coeffs = word_att_coeffs.contiguous().view(\n",
    "                x.size(0), -1, word_att_coeffs.size(-1)\n",
    "            )  # (samples, timesteps, output_size)\n",
    "        else:\n",
    "            sent_att_vec_dr = sent_att_vec_dr.view(\n",
    "                -1, x.size(1), sent_att_vec_dr.size(-1)\n",
    "            )  # (timesteps, samples, output_size)\n",
    "            word_att_coeffs = word_att_coeffs.view(\n",
    "                -1, x.size(1), word_att_coeffs.size(-1)\n",
    "            )  # (timesteps, samples, output_size)\n",
    "        return sent_att_vec_dr, word_att_coeffs\n",
    "\n",
    "\n",
    "class HAN(nn.Module):\n",
    "    def __init__(self, input_shape, n_units, index_to_word, dropout=0):\n",
    "        super(HAN, self).__init__()\n",
    "        self.encoder = AttentionBiGRU(input_shape, n_units, index_to_word, dropout)\n",
    "        self.timeDistributed = TimeDistributed(self.encoder, True)\n",
    "        self.dropout = nn.Dropout(drop_rate)\n",
    "        self.gru = nn.GRU(\n",
    "            input_size=n_units * 2,  # fill the gap # the input shape of GRU layer\n",
    "            hidden_size=n_units,\n",
    "            num_layers=1,\n",
    "            bias=True,\n",
    "            batch_first=True,\n",
    "            bidirectional=True,\n",
    "        )\n",
    "        self.attention = AttentionWithContext(\n",
    "            n_units\n",
    "            * 2,  # fill the gap # the input shape of between-sentence attention layer\n",
    "            return_coefficients=True,\n",
    "        )\n",
    "        self.lin_out = nn.Linear(\n",
    "            n_units * 2, 1  # fill the gap # the input size of the last linear layer\n",
    "        )\n",
    "        self.preds = nn.Sigmoid()\n",
    "\n",
    "    def forward(self, doc_ints):\n",
    "        sent_att_vecs_dr, word_att_coeffs = self.timeDistributed(\n",
    "            doc_ints\n",
    "        )  # fill the gap # get sentence representation\n",
    "        doc_sa, _ = self.gru(sent_att_vecs_dr)\n",
    "        doc_att_vec, sent_att_coeffs = self.attention(doc_sa)\n",
    "        doc_att_vec_dr = self.dropout(doc_att_vec)\n",
    "        doc_att_vec_dr = self.lin_out(doc_att_vec_dr)\n",
    "        return self.preds(doc_att_vec_dr), word_att_coeffs, sent_att_coeffs"
   ]
  },
  {
   "cell_type": "markdown",
   "metadata": {
    "id": "sgreR5AcHlst"
   },
   "source": [
    "### = = = = = Training = = = = =\n",
    "In this section, we have two code cells. In the first one, we define our evaluation function to compute the training and validation accuracies. While in the second one, we define our model, loss and optimizer and train the model over <i>nb_epochs</i>.<br>\n",
    "<b>Bonus task:</b> use <a href=\"https://pytorch.org/tutorials/recipes/recipes/tensorboard_with_pytorch.html\" target=\"_blank\">tensorboard</a> to visualize the loss and the validation accuray during the training.\n",
    "\n",
    "#### <b>Task 2.3:</b>"
   ]
  },
  {
   "cell_type": "code",
   "execution_count": 6,
   "metadata": {
    "id": "ztF2Lkie-C25"
   },
   "outputs": [],
   "source": [
    "def evaluate_accuracy(data_loader, verbose=True):\n",
    "    model.eval()\n",
    "    total_loss = 0.0\n",
    "    ncorrect = ntotal = 0\n",
    "    with torch.no_grad():\n",
    "        for idx, data in enumerate(data_loader):\n",
    "            # inference\n",
    "            output = model(data[\"document\"].to(device))[0]\n",
    "            output = output[:, -1]  # only last vector\n",
    "            # total number of examples\n",
    "            ntotal += output.shape[0]\n",
    "            # number of correct predictions\n",
    "            predictions = torch.round(output)\n",
    "            ncorrect += torch.sum(\n",
    "                predictions.ravel() == data[\"label\"].to(device)\n",
    "            )  # fill me # number of correct prediction - hint: use torch.sum\n",
    "        acc = ncorrect.item() / ntotal\n",
    "        if verbose:\n",
    "            print(\"validation accuracy: {:3.2f}\".format(acc * 100))\n",
    "        return acc"
   ]
  },
  {
   "cell_type": "code",
   "execution_count": 7,
   "metadata": {
    "id": "RRYiKhZEEidb"
   },
   "outputs": [
    {
     "name": "stderr",
     "output_type": "stream",
     "text": [
      "Epoch 1: 100%|██████████| 390/390 [00:09<00:00, 40.10batch/s, accuracy=61.2, loss=0.648]\n"
     ]
    },
    {
     "name": "stdout",
     "output_type": "stream",
     "text": [
      "===> Epoch 1 Complete: Avg. Loss: 0.6475, Validation Accuracy: 66.90%\n",
      "Validation accuracy improved, saving model...\n",
      "\n"
     ]
    },
    {
     "name": "stderr",
     "output_type": "stream",
     "text": [
      "Epoch 2: 100%|██████████| 390/390 [00:09<00:00, 40.85batch/s, accuracy=71.7, loss=0.556]\n"
     ]
    },
    {
     "name": "stdout",
     "output_type": "stream",
     "text": [
      "===> Epoch 2 Complete: Avg. Loss: 0.5556, Validation Accuracy: 75.52%\n",
      "Validation accuracy improved, saving model...\n",
      "\n"
     ]
    },
    {
     "name": "stderr",
     "output_type": "stream",
     "text": [
      "Epoch 3: 100%|██████████| 390/390 [00:09<00:00, 41.02batch/s, accuracy=75.7, loss=0.498]\n"
     ]
    },
    {
     "name": "stdout",
     "output_type": "stream",
     "text": [
      "===> Epoch 3 Complete: Avg. Loss: 0.4984, Validation Accuracy: 78.93%\n",
      "Validation accuracy improved, saving model...\n",
      "\n"
     ]
    },
    {
     "name": "stderr",
     "output_type": "stream",
     "text": [
      "Epoch 4: 100%|██████████| 390/390 [00:09<00:00, 41.60batch/s, accuracy=78.6, loss=0.456]\n"
     ]
    },
    {
     "name": "stdout",
     "output_type": "stream",
     "text": [
      "===> Epoch 4 Complete: Avg. Loss: 0.4562, Validation Accuracy: 80.73%\n",
      "Validation accuracy improved, saving model...\n",
      "\n"
     ]
    },
    {
     "name": "stderr",
     "output_type": "stream",
     "text": [
      "Epoch 5: 100%|██████████| 390/390 [00:09<00:00, 41.04batch/s, accuracy=80.3, loss=0.431]\n"
     ]
    },
    {
     "name": "stdout",
     "output_type": "stream",
     "text": [
      "===> Epoch 5 Complete: Avg. Loss: 0.4313, Validation Accuracy: 81.69%\n",
      "Validation accuracy improved, saving model...\n",
      "\n"
     ]
    },
    {
     "name": "stderr",
     "output_type": "stream",
     "text": [
      "Epoch 6: 100%|██████████| 390/390 [00:09<00:00, 41.95batch/s, accuracy=81.7, loss=0.402]\n"
     ]
    },
    {
     "name": "stdout",
     "output_type": "stream",
     "text": [
      "===> Epoch 6 Complete: Avg. Loss: 0.4017, Validation Accuracy: 81.63%\n"
     ]
    },
    {
     "name": "stderr",
     "output_type": "stream",
     "text": [
      "Epoch 7: 100%|██████████| 390/390 [00:09<00:00, 42.38batch/s, accuracy=83, loss=0.382]  \n"
     ]
    },
    {
     "name": "stdout",
     "output_type": "stream",
     "text": [
      "===> Epoch 7 Complete: Avg. Loss: 0.3822, Validation Accuracy: 82.89%\n",
      "Validation accuracy improved, saving model...\n",
      "\n"
     ]
    },
    {
     "name": "stderr",
     "output_type": "stream",
     "text": [
      "Epoch 8: 100%|██████████| 390/390 [00:09<00:00, 42.09batch/s, accuracy=84.1, loss=0.362]\n"
     ]
    },
    {
     "name": "stdout",
     "output_type": "stream",
     "text": [
      "===> Epoch 8 Complete: Avg. Loss: 0.3623, Validation Accuracy: 83.49%\n",
      "Validation accuracy improved, saving model...\n",
      "\n"
     ]
    },
    {
     "name": "stderr",
     "output_type": "stream",
     "text": [
      "Epoch 9: 100%|██████████| 390/390 [00:09<00:00, 42.23batch/s, accuracy=85.4, loss=0.34] \n"
     ]
    },
    {
     "name": "stdout",
     "output_type": "stream",
     "text": [
      "===> Epoch 9 Complete: Avg. Loss: 0.3399, Validation Accuracy: 83.49%\n"
     ]
    },
    {
     "name": "stderr",
     "output_type": "stream",
     "text": [
      "Epoch 10: 100%|██████████| 390/390 [00:09<00:00, 42.76batch/s, accuracy=85.8, loss=0.329]\n"
     ]
    },
    {
     "name": "stdout",
     "output_type": "stream",
     "text": [
      "===> Epoch 10 Complete: Avg. Loss: 0.3293, Validation Accuracy: 84.25%\n",
      "Validation accuracy improved, saving model...\n",
      "\n"
     ]
    },
    {
     "name": "stderr",
     "output_type": "stream",
     "text": [
      "Epoch 11: 100%|██████████| 390/390 [00:09<00:00, 42.13batch/s, accuracy=86.6, loss=0.313]\n"
     ]
    },
    {
     "name": "stdout",
     "output_type": "stream",
     "text": [
      "===> Epoch 11 Complete: Avg. Loss: 0.3125, Validation Accuracy: 83.96%\n"
     ]
    },
    {
     "name": "stderr",
     "output_type": "stream",
     "text": [
      "Epoch 12: 100%|██████████| 390/390 [00:09<00:00, 42.73batch/s, accuracy=87.1, loss=0.305]\n"
     ]
    },
    {
     "name": "stdout",
     "output_type": "stream",
     "text": [
      "===> Epoch 12 Complete: Avg. Loss: 0.3045, Validation Accuracy: 84.76%\n",
      "Validation accuracy improved, saving model...\n",
      "\n"
     ]
    },
    {
     "name": "stderr",
     "output_type": "stream",
     "text": [
      "Epoch 13: 100%|██████████| 390/390 [00:09<00:00, 41.72batch/s, accuracy=87.7, loss=0.289]\n"
     ]
    },
    {
     "name": "stdout",
     "output_type": "stream",
     "text": [
      "===> Epoch 13 Complete: Avg. Loss: 0.2888, Validation Accuracy: 84.72%\n"
     ]
    },
    {
     "name": "stderr",
     "output_type": "stream",
     "text": [
      "Epoch 14: 100%|██████████| 390/390 [00:09<00:00, 42.41batch/s, accuracy=88.5, loss=0.277]\n"
     ]
    },
    {
     "name": "stdout",
     "output_type": "stream",
     "text": [
      "===> Epoch 14 Complete: Avg. Loss: 0.2767, Validation Accuracy: 84.60%\n",
      "Validation accuracy did not improve for 2 epochs, stopping training...\n"
     ]
    },
    {
     "name": "stderr",
     "output_type": "stream",
     "text": [
      "Epoch 15: 100%|██████████| 390/390 [00:09<00:00, 42.19batch/s, accuracy=88.7, loss=0.271]\n"
     ]
    },
    {
     "name": "stdout",
     "output_type": "stream",
     "text": [
      "===> Epoch 15 Complete: Avg. Loss: 0.2711, Validation Accuracy: 84.58%\n",
      "Loading best checkpoint...\n",
      "done.\n"
     ]
    }
   ],
   "source": [
    "from tqdm import tqdm\n",
    "\n",
    "model = HAN(input_size, n_units, index_to_word).to(device)\n",
    "model = model.double()\n",
    "lr = 0.001  # learning rate\n",
    "criterion = (\n",
    "    torch.nn.BCELoss()\n",
    ")  # fill the gap, use Binary cross entropy from torch.nn: https://pytorch.org/docs/stable/nn.html#loss-functions\n",
    "optimizer = torch.optim.Adam(model.parameters(), lr=lr)  # fill me\n",
    "\n",
    "\n",
    "def train(\n",
    "    x_train=my_docs_array_train,\n",
    "    y_train=my_labels_array_train,\n",
    "    x_test=my_docs_array_test,\n",
    "    y_test=my_labels_array_test,\n",
    "    word_dict=index_to_word,\n",
    "    batch_size=batch_size,\n",
    "):\n",
    "\n",
    "    train_data = get_loader(x_train, y_train, batch_size)\n",
    "    test_data = get_loader(my_docs_array_test, my_labels_array_test, batch_size)\n",
    "\n",
    "    best_validation_acc = 0.0\n",
    "    p = 0  # patience\n",
    "\n",
    "    for epoch in range(1, nb_epochs + 1):\n",
    "        losses = []\n",
    "        accuracies = []\n",
    "        with tqdm(train_data, unit=\"batch\") as tepoch:\n",
    "            for idx, data in enumerate(tepoch):\n",
    "                tepoch.set_description(f\"Epoch {epoch}\")\n",
    "                model.train()\n",
    "                optimizer.zero_grad()\n",
    "                input = data[\"document\"].to(device)\n",
    "                label = data[\"label\"].to(device)\n",
    "                label = label.double()\n",
    "                output = model.forward(input)[0]\n",
    "                output = output[:, -1]\n",
    "                loss = criterion(\n",
    "                    output.ravel(), label\n",
    "                )  # fill the gap # compute the loss\n",
    "                loss.backward()\n",
    "                torch.nn.utils.clip_grad_norm_(\n",
    "                    model.parameters(), 0.5\n",
    "                )  # prevent exploding gradient\n",
    "                optimizer.step()\n",
    "\n",
    "                losses.append(loss.item())\n",
    "                accuracy = torch.sum(torch.round(output) == label).item() / batch_size\n",
    "                accuracies.append(accuracy)\n",
    "                tepoch.set_postfix(\n",
    "                    loss=sum(losses) / len(losses),\n",
    "                    accuracy=100.0 * sum(accuracies) / len(accuracies),\n",
    "                )\n",
    "\n",
    "        # train_acc = evaluate_accuracy(train_data, False)\n",
    "        test_acc = evaluate_accuracy(test_data, False)\n",
    "        print(\n",
    "            \"===> Epoch {} Complete: Avg. Loss: {:.4f}, Validation Accuracy: {:3.2f}%\".format(\n",
    "                epoch, sum(losses) / len(losses), 100.0 * test_acc\n",
    "            )\n",
    "        )\n",
    "        if test_acc >= best_validation_acc:\n",
    "            best_validation_acc = test_acc\n",
    "            print(\"Validation accuracy improved, saving model...\")\n",
    "            torch.save(model.state_dict(), \"./best_model.pt\")\n",
    "            p = 0\n",
    "            print()\n",
    "        else:\n",
    "            p += 1\n",
    "            if p == my_patience:\n",
    "                print(\n",
    "                    \"Validation accuracy did not improve for {} epochs, stopping training...\".format(\n",
    "                        my_patience\n",
    "                    )\n",
    "                )\n",
    "    print(\"Loading best checkpoint...\")\n",
    "    model.load_state_dict(torch.load(\"./best_model.pt\"))\n",
    "    model.eval()\n",
    "    print(\"done.\")\n",
    "\n",
    "\n",
    "train()"
   ]
  },
  {
   "cell_type": "markdown",
   "metadata": {
    "id": "Dvyr8B5QHlst"
   },
   "source": [
    "### = = = = = Extraction of Attention Coefficients = = = = =\n",
    "In this section, we will extract and display the attention coefficients on two levels: sentence level and word level. To do so, we will extract the corresponding weights from our model.\n",
    "#### <b>Task 3:</b>"
   ]
  },
  {
   "cell_type": "code",
   "execution_count": 8,
   "metadata": {
    "id": "UVr8cS4MHlst"
   },
   "outputs": [],
   "source": [
    "# select last review:\n",
    "my_review = my_docs_array_test[-1:, :, :]\n",
    "\n",
    "# convert integer review to text:\n",
    "index_to_word[1] = \"OOV\"\n",
    "my_review_text = [\n",
    "    [index_to_word[idx] for idx in sent if idx in index_to_word]\n",
    "    for sent in my_review.tolist()[0]\n",
    "]"
   ]
  },
  {
   "cell_type": "markdown",
   "metadata": {
    "id": "wHDJ7JiqHlsu"
   },
   "source": [
    "###   &emsp;&emsp;  = = = = = Attention Over Sentences in the Document = = = = ="
   ]
  },
  {
   "cell_type": "code",
   "execution_count": 9,
   "metadata": {
    "colab": {
     "base_uri": "https://localhost:8080/"
    },
    "id": "yooWg3kkHlsu",
    "outputId": "2421291a-c557-46a9-8f75-74c998053f74"
   },
   "outputs": [
    {
     "name": "stdout",
     "output_type": "stream",
     "text": [
      "13.76 There 's a sign on The Lost Highway that says : OOV SPOILERS OOV ( but you already knew that , did n't you ? )\n",
      "12.85 Since there 's a great deal of people that apparently did not get the point of this movie , I 'd like to contribute my interpretation of why the plot\n",
      "10.83 As others have pointed out , one single viewing of this movie is not sufficient .\n",
      "11.34 If you have the DVD of MD , you can OOV ' by looking at David Lynch 's 'Top 10 OOV to OOV MD ' ( but only upon second\n",
      "21.43 ; ) First of all , Mulholland Drive is downright brilliant .\n",
      "18.66 A masterpiece .\n",
      "11.13 This is the kind of movie that refuse to leave your head .\n"
     ]
    }
   ],
   "source": [
    "sent_coeffs = model(torch.IntTensor(my_review).to(device))[\n",
    "    2\n",
    "]  # fill the gap # get sentence attention coeffs by passing the review to the model - (you need to convert the inout torch tensor)\n",
    "sent_coeffs = sent_coeffs[0, :, :]\n",
    "\n",
    "for elt in zip(sent_coeffs[:, 0].tolist(), [\" \".join(elt) for elt in my_review_text]):\n",
    "    print(round(elt[0] * 100, 2), elt[1])"
   ]
  },
  {
   "cell_type": "markdown",
   "metadata": {
    "id": "rII-DNrKHlsu"
   },
   "source": [
    "### &emsp;&emsp; = = = = = Attention Over Words in Each Sentence = = = = ="
   ]
  },
  {
   "cell_type": "code",
   "execution_count": 10,
   "metadata": {
    "colab": {
     "base_uri": "https://localhost:8080/"
    },
    "id": "JyFjAga6Hlsu",
    "outputId": "d9640e73-a3a1-4745-b215-d55470036a3c"
   },
   "outputs": [
    {
     "name": "stdout",
     "output_type": "stream",
     "text": [
      "('There', 0.07725285218398402)\n",
      "(\"'s\", 0.020022866523013796)\n",
      "('a', 0.010812874553048309)\n",
      "('sign', 0.01938580000171245)\n",
      "('on', 0.01548258333392406)\n",
      "('The', 0.017624548973223037)\n",
      "('Lost', 0.08242856622227518)\n",
      "('Highway', 0.042662242849766586)\n",
      "('that', 0.01993448816546976)\n",
      "('says', 0.014150291861449385)\n",
      "(':', 0.018233751886771073)\n",
      "('OOV', 0.016623875804626386)\n",
      "('SPOILERS', 0.017717317024546455)\n",
      "('OOV', 0.016730861924772335)\n",
      "('(', 0.013695352225689657)\n",
      "('but', 0.013824179802170562)\n",
      "('you', 0.03017304197206576)\n",
      "('already', 0.057929977984961294)\n",
      "('knew', 0.20861941258048786)\n",
      "('that', 0.037240041778794496)\n",
      "(',', 0.02277073741890745)\n",
      "('did', 0.027031760314715225)\n",
      "(\"n't\", 0.028464514666003103)\n",
      "('you', 0.025023491517844845)\n",
      "('?', 0.03439499263535259)\n",
      "(')', 0.017053516336564305)\n",
      "= = = =\n",
      "('Since', 0.07855287802838301)\n",
      "('there', 0.03101452196808994)\n",
      "(\"'s\", 0.029661559075262554)\n",
      "('a', 0.020062788949360665)\n",
      "('great', 0.07001704963333548)\n",
      "('deal', 0.038126980221062784)\n",
      "('of', 0.04064943448008834)\n",
      "('people', 0.04447971096214119)\n",
      "('that', 0.03376880428380876)\n",
      "('apparently', 0.05065624314972606)\n",
      "('did', 0.029414442877718258)\n",
      "('not', 0.01779273902915202)\n",
      "('get', 0.01795045925989083)\n",
      "('the', 0.018740741430328306)\n",
      "('point', 0.037593204615162995)\n",
      "('of', 0.028746717117144143)\n",
      "('this', 0.04307510940526606)\n",
      "('movie', 0.06102033256279728)\n",
      "(',', 0.029906796213883213)\n",
      "('I', 0.02585677792926646)\n",
      "(\"'d\", 0.03038155870447829)\n",
      "('like', 0.0152133138077726)\n",
      "('to', 0.017325191591606875)\n",
      "('contribute', 0.020064257592811073)\n",
      "('my', 0.027422408032021863)\n",
      "('interpretation', 0.023853653065987496)\n",
      "('of', 0.024865047211474173)\n",
      "('why', 0.03607965932606206)\n",
      "('the', 0.023658391957225418)\n",
      "('plot', 0.03404922738982986)\n",
      "= = = =\n",
      "('As', 0.04639690903809182)\n",
      "('others', 0.02777114802089959)\n",
      "('have', 0.021099522414658105)\n",
      "('pointed', 0.016865724492428742)\n",
      "('out', 0.01929533214484744)\n",
      "(',', 0.023336923512240107)\n",
      "('one', 0.03318754156863649)\n",
      "('single', 0.15023737587202624)\n",
      "('viewing', 0.0765077320397204)\n",
      "('of', 0.029205008570344002)\n",
      "('this', 0.03517920547129749)\n",
      "('movie', 0.03264790627798279)\n",
      "('is', 0.026206508568727693)\n",
      "('not', 0.04540797941432322)\n",
      "('sufficient', 0.07752584782906097)\n",
      "('.', 0.031948041098512105)\n",
      "= = = =\n",
      "('If', 0.09498326192713316)\n",
      "('you', 0.04420238241047075)\n",
      "('have', 0.02529217782447427)\n",
      "('the', 0.02427813754902738)\n",
      "('DVD', 0.03269947208134363)\n",
      "('of', 0.04088870389182669)\n",
      "('MD', 0.029081860660360608)\n",
      "(',', 0.01931504641990376)\n",
      "('you', 0.021228276549564506)\n",
      "('can', 0.019623756527801243)\n",
      "('OOV', 0.025528860690685905)\n",
      "(\"'\", 0.022525155111896056)\n",
      "('by', 0.01778251137239529)\n",
      "('looking', 0.03474280660819621)\n",
      "('at', 0.03577385129767014)\n",
      "('David', 0.020594164355748484)\n",
      "('Lynch', 0.049024540825295816)\n",
      "(\"'s\", 0.04773719526656299)\n",
      "(\"'Top\", 0.03233880230192104)\n",
      "('10', 0.02365757287491339)\n",
      "('OOV', 0.02365143210136262)\n",
      "('to', 0.016982775808318126)\n",
      "('OOV', 0.02393657537384552)\n",
      "('MD', 0.025415527372048295)\n",
      "(\"'\", 0.026355363800972892)\n",
      "('(', 0.021449225377865862)\n",
      "('but', 0.022323740144186647)\n",
      "('only', 0.04153541428060819)\n",
      "('upon', 0.09431944496883182)\n",
      "('second', 0.04273196406068287)\n",
      "= = = =\n",
      "(';', 0.019701800559698484)\n",
      "(')', 0.011742839940732929)\n",
      "('First', 0.04179706241557507)\n",
      "('of', 0.01215233778312449)\n",
      "('all', 0.009249572231350225)\n",
      "(',', 0.009750412731444216)\n",
      "('Mulholland', 0.011917106010327307)\n",
      "('Drive', 0.010867751628552825)\n",
      "('is', 0.01595428458221866)\n",
      "('downright', 0.29620194093391733)\n",
      "('brilliant', 0.15795548188281852)\n",
      "('.', 0.045028916240617285)\n",
      "= = = =\n",
      "('A', 0.06605345579574416)\n",
      "('masterpiece', 0.0975851808803395)\n",
      "('.', 0.04925820825123895)\n",
      "= = = =\n",
      "('This', 0.025402763790400695)\n",
      "('is', 0.039838054748437074)\n",
      "('the', 0.0713780738618777)\n",
      "('kind', 0.20118078419878865)\n",
      "('of', 0.06713206175264681)\n",
      "('movie', 0.05246339071926374)\n",
      "('that', 0.025226934250350115)\n",
      "('refuse', 0.020319963975473188)\n",
      "('to', 0.016104093859337868)\n",
      "('leave', 0.05904226508088449)\n",
      "('your', 0.03804777607697319)\n",
      "('head', 0.04521109773959333)\n",
      "('.', 0.020879131878078477)\n",
      "= = = =\n",
      "('knew', 0.20861941258048786)\n",
      "('Lost', 0.08242856622227518)\n",
      "('There', 0.07725285218398402)\n",
      "('already', 0.057929977984961294)\n",
      "('Highway', 0.042662242849766586)\n",
      "('that', 0.037240041778794496)\n",
      "('?', 0.03439499263535259)\n",
      "('you', 0.03017304197206576)\n",
      "(\"n't\", 0.028464514666003103)\n",
      "('did', 0.027031760314715225)\n",
      "('you', 0.025023491517844845)\n",
      "(',', 0.02277073741890745)\n",
      "(\"'s\", 0.020022866523013796)\n",
      "('that', 0.01993448816546976)\n",
      "('sign', 0.01938580000171245)\n",
      "(':', 0.018233751886771073)\n",
      "('SPOILERS', 0.017717317024546455)\n",
      "('The', 0.017624548973223037)\n",
      "(')', 0.017053516336564305)\n",
      "('OOV', 0.016730861924772335)\n",
      "('OOV', 0.016623875804626386)\n",
      "('on', 0.01548258333392406)\n",
      "('says', 0.014150291861449385)\n",
      "('but', 0.013824179802170562)\n",
      "('(', 0.013695352225689657)\n",
      "('a', 0.010812874553048309)\n",
      "= = = =\n",
      "('Since', 0.07855287802838301)\n",
      "('great', 0.07001704963333548)\n",
      "('movie', 0.06102033256279728)\n",
      "('apparently', 0.05065624314972606)\n",
      "('people', 0.04447971096214119)\n",
      "('this', 0.04307510940526606)\n",
      "('of', 0.04064943448008834)\n",
      "('deal', 0.038126980221062784)\n",
      "('point', 0.037593204615162995)\n",
      "('why', 0.03607965932606206)\n",
      "('plot', 0.03404922738982986)\n",
      "('that', 0.03376880428380876)\n",
      "('there', 0.03101452196808994)\n",
      "(\"'d\", 0.03038155870447829)\n",
      "(',', 0.029906796213883213)\n",
      "(\"'s\", 0.029661559075262554)\n",
      "('did', 0.029414442877718258)\n",
      "('of', 0.028746717117144143)\n",
      "('my', 0.027422408032021863)\n",
      "('I', 0.02585677792926646)\n",
      "('of', 0.024865047211474173)\n",
      "('interpretation', 0.023853653065987496)\n",
      "('the', 0.023658391957225418)\n",
      "('contribute', 0.020064257592811073)\n",
      "('a', 0.020062788949360665)\n",
      "('the', 0.018740741430328306)\n",
      "('get', 0.01795045925989083)\n",
      "('not', 0.01779273902915202)\n",
      "('to', 0.017325191591606875)\n",
      "('like', 0.0152133138077726)\n",
      "= = = =\n",
      "('single', 0.15023737587202624)\n",
      "('sufficient', 0.07752584782906097)\n",
      "('viewing', 0.0765077320397204)\n",
      "('As', 0.04639690903809182)\n",
      "('not', 0.04540797941432322)\n",
      "('this', 0.03517920547129749)\n",
      "('one', 0.03318754156863649)\n",
      "('movie', 0.03264790627798279)\n",
      "('.', 0.031948041098512105)\n",
      "('of', 0.029205008570344002)\n",
      "('others', 0.02777114802089959)\n",
      "('is', 0.026206508568727693)\n",
      "(',', 0.023336923512240107)\n",
      "('have', 0.021099522414658105)\n",
      "('out', 0.01929533214484744)\n",
      "('pointed', 0.016865724492428742)\n",
      "= = = =\n",
      "('If', 0.09498326192713316)\n",
      "('upon', 0.09431944496883182)\n",
      "('Lynch', 0.049024540825295816)\n",
      "(\"'s\", 0.04773719526656299)\n",
      "('you', 0.04420238241047075)\n",
      "('second', 0.04273196406068287)\n",
      "('only', 0.04153541428060819)\n",
      "('of', 0.04088870389182669)\n",
      "('at', 0.03577385129767014)\n",
      "('looking', 0.03474280660819621)\n",
      "('DVD', 0.03269947208134363)\n",
      "(\"'Top\", 0.03233880230192104)\n",
      "('MD', 0.029081860660360608)\n",
      "(\"'\", 0.026355363800972892)\n",
      "('OOV', 0.025528860690685905)\n",
      "('MD', 0.025415527372048295)\n",
      "('have', 0.02529217782447427)\n",
      "('the', 0.02427813754902738)\n",
      "('OOV', 0.02393657537384552)\n",
      "('10', 0.02365757287491339)\n",
      "('OOV', 0.02365143210136262)\n",
      "(\"'\", 0.022525155111896056)\n",
      "('but', 0.022323740144186647)\n",
      "('(', 0.021449225377865862)\n",
      "('you', 0.021228276549564506)\n",
      "('David', 0.020594164355748484)\n",
      "('can', 0.019623756527801243)\n",
      "(',', 0.01931504641990376)\n",
      "('by', 0.01778251137239529)\n",
      "('to', 0.016982775808318126)\n",
      "= = = =\n",
      "('downright', 0.29620194093391733)\n",
      "('brilliant', 0.15795548188281852)\n",
      "('.', 0.045028916240617285)\n",
      "('First', 0.04179706241557507)\n",
      "(';', 0.019701800559698484)\n",
      "('is', 0.01595428458221866)\n",
      "('of', 0.01215233778312449)\n",
      "('Mulholland', 0.011917106010327307)\n",
      "(')', 0.011742839940732929)\n",
      "('Drive', 0.010867751628552825)\n",
      "(',', 0.009750412731444216)\n",
      "('all', 0.009249572231350225)\n",
      "= = = =\n",
      "('masterpiece', 0.0975851808803395)\n",
      "('A', 0.06605345579574416)\n",
      "('.', 0.04925820825123895)\n",
      "= = = =\n",
      "('kind', 0.20118078419878865)\n",
      "('the', 0.0713780738618777)\n",
      "('of', 0.06713206175264681)\n",
      "('leave', 0.05904226508088449)\n",
      "('movie', 0.05246339071926374)\n",
      "('head', 0.04521109773959333)\n",
      "('is', 0.039838054748437074)\n",
      "('your', 0.03804777607697319)\n",
      "('This', 0.025402763790400695)\n",
      "('that', 0.025226934250350115)\n",
      "('.', 0.020879131878078477)\n",
      "('refuse', 0.020319963975473188)\n",
      "('to', 0.016104093859337868)\n",
      "= = = =\n"
     ]
    }
   ],
   "source": [
    "word_coeffs = model(torch.IntTensor(my_review).to(device))[\n",
    "    1\n",
    "]  # fill the gap # get words attention coeffs by passing the review to the model - (you need to convert the inout torch tensor)\n",
    "\n",
    "word_coeffs_list = word_coeffs.reshape(7, 30).tolist()\n",
    "\n",
    "# match text and coefficients:\n",
    "text_word_coeffs = [\n",
    "    list(zip(words, word_coeffs_list[idx][: len(words)]))\n",
    "    for idx, words in enumerate(my_review_text)\n",
    "]\n",
    "\n",
    "for sent in text_word_coeffs:\n",
    "    [print(elt) for elt in sent]\n",
    "    print(\"= = = =\")\n",
    "\n",
    "# sort words by importance within each sentence:\n",
    "text_word_coeffs_sorted = [\n",
    "    sorted(elt, key=operator.itemgetter(1), reverse=True) for elt in text_word_coeffs\n",
    "]\n",
    "\n",
    "for sent in text_word_coeffs_sorted:\n",
    "    [print(elt) for elt in sent]\n",
    "    print(\"= = = =\")"
   ]
  },
  {
   "cell_type": "code",
   "execution_count": 11,
   "metadata": {},
   "outputs": [
    {
     "name": "stderr",
     "output_type": "stream",
     "text": [
      "/tmp/ipykernel_22470/1054401918.py:2: DeprecationWarning: Importing display from IPython.core.display is deprecated since IPython 7.14, please import from IPython display\n",
      "  from IPython.core.display import display, HTML\n"
     ]
    }
   ],
   "source": [
    "import html\n",
    "from IPython.core.display import display, HTML"
   ]
  },
  {
   "cell_type": "code",
   "execution_count": 12,
   "metadata": {},
   "outputs": [
    {
     "data": {
      "text/html": [
       "<span style=\"background-color:rgba(255,0,0,0.13755891396750192);\">There &#x27;s a sign on The Lost Highway that says : OOV SPOILERS OOV ( but you already knew that , did n&#x27;t you ? )</span><br><span style=\"background-color:rgba(255,0,0,0.12848338207395651);\">Since there &#x27;s a great deal of people that apparently did not get the point of this movie , I &#x27;d like to contribute my interpretation of why the plot</span><br><span style=\"background-color:rgba(255,0,0,0.10832821456042206);\">As others have pointed out , one single viewing of this movie is not sufficient .</span><br><span style=\"background-color:rgba(255,0,0,0.11343102343526776);\">If you have the DVD of MD , you can OOV &#x27; by looking at David Lynch &#x27;s &#x27;Top 10 OOV to OOV MD &#x27; ( but only upon second</span><br><span style=\"background-color:rgba(255,0,0,0.2142564270943139);\">; ) First of all , Mulholland Drive is downright brilliant .</span><br><span style=\"background-color:rgba(255,0,0,0.18661864999937877);\">A masterpiece .</span><br><span style=\"background-color:rgba(255,0,0,0.11132338867489527);\">This is the kind of movie that refuse to leave your head .</span>"
      ],
      "text/plain": [
       "<IPython.core.display.HTML object>"
      ]
     },
     "metadata": {},
     "output_type": "display_data"
    }
   ],
   "source": [
    "max_alpha = 1\n",
    "\n",
    "highlighted_text = []\n",
    "\n",
    "for idx, sent in enumerate(text_word_coeffs):\n",
    "    weight = sent_coeffs[:, 0].tolist()[idx]\n",
    "    words = []\n",
    "    for word, _ in sent:\n",
    "        words.append(word)\n",
    "    text_sent = \" \".join(words)\n",
    "    highlighted_text_sent = (\n",
    "        '<span style=\"background-color:rgba(255,0,0,'\n",
    "        + str(weight / max_alpha)\n",
    "        + ');\">'\n",
    "        + html.escape(text_sent)\n",
    "        + \"</span>\"\n",
    "    )\n",
    "\n",
    "    highlighted_text.append(highlighted_text_sent)\n",
    "\n",
    "highlighted_text = \"<br>\".join(highlighted_text)\n",
    "\n",
    "display(HTML(highlighted_text))"
   ]
  },
  {
   "cell_type": "code",
   "execution_count": 13,
   "metadata": {},
   "outputs": [
    {
     "data": {
      "text/html": [
       "<span style=\"background-color:rgba(255,0,0,0.15450570436796804);\">There</span> <span style=\"background-color:rgba(255,0,0,0.04004573304602759);\">&#x27;s</span> <span style=\"background-color:rgba(255,0,0,0.021625749106096617);\">a</span> <span style=\"background-color:rgba(255,0,0,0.0387716000034249);\">sign</span> <span style=\"background-color:rgba(255,0,0,0.03096516666784812);\">on</span> <span style=\"background-color:rgba(255,0,0,0.035249097946446074);\">The</span> <span style=\"background-color:rgba(255,0,0,0.16485713244455036);\">Lost</span> <span style=\"background-color:rgba(255,0,0,0.08532448569953317);\">Highway</span> <span style=\"background-color:rgba(255,0,0,0.03986897633093952);\">that</span> <span style=\"background-color:rgba(255,0,0,0.02830058372289877);\">says</span> <span style=\"background-color:rgba(255,0,0,0.036467503773542145);\">:</span> <span style=\"background-color:rgba(255,0,0,0.03324775160925277);\">OOV</span> <span style=\"background-color:rgba(255,0,0,0.03543463404909291);\">SPOILERS</span> <span style=\"background-color:rgba(255,0,0,0.03346172384954467);\">OOV</span> <span style=\"background-color:rgba(255,0,0,0.027390704451379314);\">(</span> <span style=\"background-color:rgba(255,0,0,0.027648359604341123);\">but</span> <span style=\"background-color:rgba(255,0,0,0.06034608394413152);\">you</span> <span style=\"background-color:rgba(255,0,0,0.11585995596992259);\">already</span> <span style=\"background-color:rgba(255,0,0,0.4172388251609757);\">knew</span> <span style=\"background-color:rgba(255,0,0,0.07448008355758899);\">that</span> <span style=\"background-color:rgba(255,0,0,0.0455414748378149);\">,</span> <span style=\"background-color:rgba(255,0,0,0.05406352062943045);\">did</span> <span style=\"background-color:rgba(255,0,0,0.056929029332006206);\">n&#x27;t</span> <span style=\"background-color:rgba(255,0,0,0.05004698303568969);\">you</span> <span style=\"background-color:rgba(255,0,0,0.06878998527070518);\">?</span> <span style=\"background-color:rgba(255,0,0,0.03410703267312861);\">)</span><br><span style=\"background-color:rgba(255,0,0,0.15710575605676602);\">Since</span> <span style=\"background-color:rgba(255,0,0,0.06202904393617988);\">there</span> <span style=\"background-color:rgba(255,0,0,0.05932311815052511);\">&#x27;s</span> <span style=\"background-color:rgba(255,0,0,0.04012557789872133);\">a</span> <span style=\"background-color:rgba(255,0,0,0.14003409926667096);\">great</span> <span style=\"background-color:rgba(255,0,0,0.07625396044212557);\">deal</span> <span style=\"background-color:rgba(255,0,0,0.08129886896017668);\">of</span> <span style=\"background-color:rgba(255,0,0,0.08895942192428238);\">people</span> <span style=\"background-color:rgba(255,0,0,0.06753760856761752);\">that</span> <span style=\"background-color:rgba(255,0,0,0.10131248629945212);\">apparently</span> <span style=\"background-color:rgba(255,0,0,0.058828885755436516);\">did</span> <span style=\"background-color:rgba(255,0,0,0.03558547805830404);\">not</span> <span style=\"background-color:rgba(255,0,0,0.03590091851978166);\">get</span> <span style=\"background-color:rgba(255,0,0,0.03748148286065661);\">the</span> <span style=\"background-color:rgba(255,0,0,0.07518640923032599);\">point</span> <span style=\"background-color:rgba(255,0,0,0.057493434234288286);\">of</span> <span style=\"background-color:rgba(255,0,0,0.08615021881053211);\">this</span> <span style=\"background-color:rgba(255,0,0,0.12204066512559456);\">movie</span> <span style=\"background-color:rgba(255,0,0,0.059813592427766425);\">,</span> <span style=\"background-color:rgba(255,0,0,0.05171355585853292);\">I</span> <span style=\"background-color:rgba(255,0,0,0.06076311740895658);\">&#x27;d</span> <span style=\"background-color:rgba(255,0,0,0.0304266276155452);\">like</span> <span style=\"background-color:rgba(255,0,0,0.03465038318321375);\">to</span> <span style=\"background-color:rgba(255,0,0,0.040128515185622146);\">contribute</span> <span style=\"background-color:rgba(255,0,0,0.054844816064043726);\">my</span> <span style=\"background-color:rgba(255,0,0,0.04770730613197499);\">interpretation</span> <span style=\"background-color:rgba(255,0,0,0.049730094422948345);\">of</span> <span style=\"background-color:rgba(255,0,0,0.07215931865212412);\">why</span> <span style=\"background-color:rgba(255,0,0,0.047316783914450836);\">the</span> <span style=\"background-color:rgba(255,0,0,0.06809845477965971);\">plot</span><br><span style=\"background-color:rgba(255,0,0,0.09279381807618364);\">As</span> <span style=\"background-color:rgba(255,0,0,0.05554229604179918);\">others</span> <span style=\"background-color:rgba(255,0,0,0.04219904482931621);\">have</span> <span style=\"background-color:rgba(255,0,0,0.033731448984857484);\">pointed</span> <span style=\"background-color:rgba(255,0,0,0.03859066428969488);\">out</span> <span style=\"background-color:rgba(255,0,0,0.046673847024480214);\">,</span> <span style=\"background-color:rgba(255,0,0,0.06637508313727299);\">one</span> <span style=\"background-color:rgba(255,0,0,0.30047475174405247);\">single</span> <span style=\"background-color:rgba(255,0,0,0.1530154640794408);\">viewing</span> <span style=\"background-color:rgba(255,0,0,0.058410017140688004);\">of</span> <span style=\"background-color:rgba(255,0,0,0.07035841094259498);\">this</span> <span style=\"background-color:rgba(255,0,0,0.06529581255596557);\">movie</span> <span style=\"background-color:rgba(255,0,0,0.05241301713745539);\">is</span> <span style=\"background-color:rgba(255,0,0,0.09081595882864645);\">not</span> <span style=\"background-color:rgba(255,0,0,0.15505169565812194);\">sufficient</span> <span style=\"background-color:rgba(255,0,0,0.06389608219702421);\">.</span><br><span style=\"background-color:rgba(255,0,0,0.18996652385426632);\">If</span> <span style=\"background-color:rgba(255,0,0,0.0884047648209415);\">you</span> <span style=\"background-color:rgba(255,0,0,0.05058435564894854);\">have</span> <span style=\"background-color:rgba(255,0,0,0.04855627509805476);\">the</span> <span style=\"background-color:rgba(255,0,0,0.06539894416268725);\">DVD</span> <span style=\"background-color:rgba(255,0,0,0.08177740778365337);\">of</span> <span style=\"background-color:rgba(255,0,0,0.058163721320721215);\">MD</span> <span style=\"background-color:rgba(255,0,0,0.03863009283980752);\">,</span> <span style=\"background-color:rgba(255,0,0,0.04245655309912901);\">you</span> <span style=\"background-color:rgba(255,0,0,0.039247513055602486);\">can</span> <span style=\"background-color:rgba(255,0,0,0.05105772138137181);\">OOV</span> <span style=\"background-color:rgba(255,0,0,0.04505031022379211);\">&#x27;</span> <span style=\"background-color:rgba(255,0,0,0.03556502274479058);\">by</span> <span style=\"background-color:rgba(255,0,0,0.06948561321639242);\">looking</span> <span style=\"background-color:rgba(255,0,0,0.07154770259534028);\">at</span> <span style=\"background-color:rgba(255,0,0,0.04118832871149697);\">David</span> <span style=\"background-color:rgba(255,0,0,0.09804908165059163);\">Lynch</span> <span style=\"background-color:rgba(255,0,0,0.09547439053312598);\">&#x27;s</span> <span style=\"background-color:rgba(255,0,0,0.06467760460384207);\">&#x27;Top</span> <span style=\"background-color:rgba(255,0,0,0.04731514574982678);\">10</span> <span style=\"background-color:rgba(255,0,0,0.04730286420272524);\">OOV</span> <span style=\"background-color:rgba(255,0,0,0.03396555161663625);\">to</span> <span style=\"background-color:rgba(255,0,0,0.04787315074769104);\">OOV</span> <span style=\"background-color:rgba(255,0,0,0.05083105474409659);\">MD</span> <span style=\"background-color:rgba(255,0,0,0.052710727601945784);\">&#x27;</span> <span style=\"background-color:rgba(255,0,0,0.042898450755731725);\">(</span> <span style=\"background-color:rgba(255,0,0,0.044647480288373294);\">but</span> <span style=\"background-color:rgba(255,0,0,0.08307082856121638);\">only</span> <span style=\"background-color:rgba(255,0,0,0.18863888993766365);\">upon</span> <span style=\"background-color:rgba(255,0,0,0.08546392812136575);\">second</span><br><span style=\"background-color:rgba(255,0,0,0.03940360111939697);\">;</span> <span style=\"background-color:rgba(255,0,0,0.023485679881465858);\">)</span> <span style=\"background-color:rgba(255,0,0,0.08359412483115014);\">First</span> <span style=\"background-color:rgba(255,0,0,0.02430467556624898);\">of</span> <span style=\"background-color:rgba(255,0,0,0.01849914446270045);\">all</span> <span style=\"background-color:rgba(255,0,0,0.019500825462888432);\">,</span> <span style=\"background-color:rgba(255,0,0,0.023834212020654614);\">Mulholland</span> <span style=\"background-color:rgba(255,0,0,0.02173550325710565);\">Drive</span> <span style=\"background-color:rgba(255,0,0,0.03190856916443732);\">is</span> <span style=\"background-color:rgba(255,0,0,0.5924038818678347);\">downright</span> <span style=\"background-color:rgba(255,0,0,0.31591096376563704);\">brilliant</span> <span style=\"background-color:rgba(255,0,0,0.09005783248123457);\">.</span><br><span style=\"background-color:rgba(255,0,0,0.13210691159148832);\">A</span> <span style=\"background-color:rgba(255,0,0,0.195170361760679);\">masterpiece</span> <span style=\"background-color:rgba(255,0,0,0.0985164165024779);\">.</span><br><span style=\"background-color:rgba(255,0,0,0.05080552758080139);\">This</span> <span style=\"background-color:rgba(255,0,0,0.07967610949687415);\">is</span> <span style=\"background-color:rgba(255,0,0,0.1427561477237554);\">the</span> <span style=\"background-color:rgba(255,0,0,0.4023615683975773);\">kind</span> <span style=\"background-color:rgba(255,0,0,0.13426412350529363);\">of</span> <span style=\"background-color:rgba(255,0,0,0.10492678143852747);\">movie</span> <span style=\"background-color:rgba(255,0,0,0.05045386850070023);\">that</span> <span style=\"background-color:rgba(255,0,0,0.040639927950946377);\">refuse</span> <span style=\"background-color:rgba(255,0,0,0.032208187718675736);\">to</span> <span style=\"background-color:rgba(255,0,0,0.11808453016176898);\">leave</span> <span style=\"background-color:rgba(255,0,0,0.07609555215394638);\">your</span> <span style=\"background-color:rgba(255,0,0,0.09042219547918666);\">head</span> <span style=\"background-color:rgba(255,0,0,0.04175826375615695);\">.</span>"
      ],
      "text/plain": [
       "<IPython.core.display.HTML object>"
      ]
     },
     "metadata": {},
     "output_type": "display_data"
    }
   ],
   "source": [
    "max_alpha = 0.5\n",
    "\n",
    "highlighted_text = []\n",
    "\n",
    "for sent in text_word_coeffs:\n",
    "    highlighted_text_sent = []\n",
    "    for word, weight in sent:\n",
    "        highlighted_text_sent.append(\n",
    "            '<span style=\"background-color:rgba(255,0,0,'\n",
    "            + str(weight / max_alpha)\n",
    "            + ');\">'\n",
    "            + html.escape(word)\n",
    "            + \"</span>\"\n",
    "        )\n",
    "\n",
    "    highlighted_text_sent = \" \".join(highlighted_text_sent)\n",
    "    highlighted_text.append(highlighted_text_sent)\n",
    "\n",
    "highlighted_text = \"<br>\".join(highlighted_text)\n",
    "\n",
    "display(HTML(highlighted_text))"
   ]
  },
  {
   "cell_type": "code",
   "execution_count": 14,
   "metadata": {},
   "outputs": [
    {
     "data": {
      "text/plain": [
       "0.8252076218134844"
      ]
     },
     "execution_count": 14,
     "metadata": {},
     "output_type": "execute_result"
    }
   ],
   "source": [
    "model(torch.IntTensor(my_review).to(device))[0].item()"
   ]
  },
  {
   "cell_type": "markdown",
   "metadata": {
    "id": "C9JblVhaHlsu"
   },
   "source": []
  }
 ],
 "metadata": {
  "accelerator": "GPU",
  "colab": {
   "collapsed_sections": [],
   "provenance": []
  },
  "kernelspec": {
   "display_name": "Python 3.10.7 ('m2ds-altegrad-ikUkGiM0-py3.10')",
   "language": "python",
   "name": "python3"
  },
  "language_info": {
   "codemirror_mode": {
    "name": "ipython",
    "version": 3
   },
   "file_extension": ".py",
   "mimetype": "text/x-python",
   "name": "python",
   "nbconvert_exporter": "python",
   "pygments_lexer": "ipython3",
   "version": "3.10.7"
  },
  "vscode": {
   "interpreter": {
    "hash": "d314033c92c59146dc96a5803a32fdd7cb71bb9b4b5487fe4a3964e1ceb72c8c"
   }
  }
 },
 "nbformat": 4,
 "nbformat_minor": 0
}
