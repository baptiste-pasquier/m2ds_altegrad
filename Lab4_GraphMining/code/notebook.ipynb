{
 "cells": [
  {
   "cell_type": "code",
   "execution_count": 1,
   "metadata": {},
   "outputs": [],
   "source": [
    "# import os\n",
    "\n",
    "# os.chdir(\"c:\\\\Users\\\\pasqu\\\\Github\\\\m2ds_altegrad\\\\Lab4_GraphMining\\\\code\")"
   ]
  },
  {
   "cell_type": "code",
   "execution_count": 2,
   "metadata": {},
   "outputs": [],
   "source": [
    "import networkx as nx\n",
    "import numpy as np\n",
    "import matplotlib.pyplot as plt"
   ]
  },
  {
   "cell_type": "markdown",
   "metadata": {},
   "source": [
    "# 2 Analysing a Real-World Graph\n",
    "## 2.1 Load Graph and Simple Statistics\n",
    "\n",
    "Task 1"
   ]
  },
  {
   "cell_type": "code",
   "execution_count": 3,
   "metadata": {},
   "outputs": [
    {
     "name": "stdout",
     "output_type": "stream",
     "text": [
      "The CA-HepTh graph has  9877  nodes.\n",
      "The CA-HepTh graph has  25998  edges.\n"
     ]
    }
   ],
   "source": [
    "G = nx.read_edgelist(\"datasets/CA-HepTh.txt\", comments=\"#\", delimiter=\"\\t\")\n",
    "\n",
    "print(\"The CA-HepTh graph has \", G.number_of_nodes(), \" nodes.\")\n",
    "print(\"The CA-HepTh graph has \", G.number_of_edges(), \" edges.\")"
   ]
  },
  {
   "cell_type": "markdown",
   "metadata": {},
   "source": [
    "## 2.2 Connected Components\n",
    "\n",
    "Task 2"
   ]
  },
  {
   "cell_type": "code",
   "execution_count": 4,
   "metadata": {},
   "outputs": [
    {
     "name": "stdout",
     "output_type": "stream",
     "text": [
      "The CA-HepTh graph has  429  connected components.\n",
      "The largest connected components in CA-HepTh has  24827  edges.\n"
     ]
    }
   ],
   "source": [
    "print(\n",
    "    \"The CA-HepTh graph has \",\n",
    "    nx.number_connected_components(G),\n",
    "    \" connected components.\",\n",
    ")\n",
    "\n",
    "largest_cc = max(nx.connected_components(G), key=len)\n",
    "\n",
    "subG = G.subgraph(largest_cc)\n",
    "print(\n",
    "    \"The largest connected components in CA-HepTh has \",\n",
    "    subG.number_of_edges(),\n",
    "    \" edges.\",\n",
    ")"
   ]
  },
  {
   "cell_type": "markdown",
   "metadata": {},
   "source": [
    "## 2.3 Analysis of the Degree Distribution of the Graph\n",
    "\n",
    "Task 3"
   ]
  },
  {
   "cell_type": "code",
   "execution_count": 5,
   "metadata": {},
   "outputs": [
    {
     "name": "stdout",
     "output_type": "stream",
     "text": [
      "The minimum degree of the nodes in CA-HepTh is 1\n",
      "The maximum degree of the nodes in CA-HepTh is 65\n",
      "The median degree of the nodes in CA-HepTh is 3.0\n",
      "The mean degree of the nodes in CA-HepTh is 5.264351523742027\n"
     ]
    }
   ],
   "source": [
    "degree_sequence = [G.degree(node) for node in G.nodes()]\n",
    "print(\"The minimum degree of the nodes in CA-HepTh is\", np.min(degree_sequence))\n",
    "print(\"The maximum degree of the nodes in CA-HepTh is\", np.max(degree_sequence))\n",
    "print(\"The median degree of the nodes in CA-HepTh is\", np.median(degree_sequence))\n",
    "print(\"The mean degree of the nodes in CA-HepTh is\", np.mean(degree_sequence))"
   ]
  },
  {
   "cell_type": "markdown",
   "metadata": {},
   "source": [
    "Task 4"
   ]
  },
  {
   "cell_type": "code",
   "execution_count": 6,
   "metadata": {},
   "outputs": [
    {
     "data": {
      "image/png": "[encoded data removed]",
      "text/plain": [
       "<Figure size 640x480 with 1 Axes>"
      ]
     },
     "metadata": {},
     "output_type": "display_data"
    }
   ],
   "source": [
    "degree, count = np.unique(degree_sequence, return_counts=True)\n",
    "freq = count / count.sum()\n",
    "plt.bar(degree, freq)\n",
    "plt.grid()\n",
    "plt.xlabel(\"Degree\")\n",
    "plt.ylabel(\"Frequency\")\n",
    "plt.title(\"Degree distribution\")\n",
    "plt.show()"
   ]
  },
  {
   "cell_type": "markdown",
   "metadata": {},
   "source": [
    "## 2.4 Clustering Coefficient\n",
    "\n",
    "Task 5"
   ]
  },
  {
   "cell_type": "code",
   "execution_count": 7,
   "metadata": {},
   "outputs": [
    {
     "name": "stdout",
     "output_type": "stream",
     "text": [
      "The global clustering coefficient of the CA-HepTh graph is 0.2839996525875546\n"
     ]
    }
   ],
   "source": [
    "print(\"The global clustering coefficient of the CA-HepTh graph is\", nx.transitivity(G))"
   ]
  },
  {
   "cell_type": "markdown",
   "metadata": {},
   "source": [
    "# 3. Community Detection\n",
    "## 3.1 Spectral Clustering\n",
    "\n",
    "Task 6"
   ]
  },
  {
   "cell_type": "code",
   "execution_count": 8,
   "metadata": {},
   "outputs": [],
   "source": [
    "import networkx as nx\n",
    "import numpy as np\n",
    "from scipy.sparse.linalg import eigs\n",
    "from scipy.sparse import diags, eye\n",
    "from random import randint\n",
    "from sklearn.cluster import KMeans"
   ]
  },
  {
   "cell_type": "code",
   "execution_count": 9,
   "metadata": {},
   "outputs": [],
   "source": [
    "def spectral_clustering(G, k):\n",
    "\n",
    "    A = nx.adjacency_matrix(G)\n",
    "    D_inv = diags([1 / G.degree(node) for node in G.nodes()])\n",
    "\n",
    "    lrw = eye(G.number_of_nodes()) - D_inv @ A\n",
    "\n",
    "    evals, evecs = eigs(lrw, k=k, which=\"SR\")\n",
    "\n",
    "    evecs = np.real(evecs)  # numerical stability\n",
    "\n",
    "    kmeans = KMeans(n_clusters=k).fit(evecs)\n",
    "\n",
    "    clustering = {}\n",
    "    for i, node in enumerate(G.nodes()):\n",
    "        clustering[node] = kmeans.labels_[i]\n",
    "\n",
    "    return clustering"
   ]
  },
  {
   "cell_type": "markdown",
   "metadata": {},
   "source": [
    "Task 7"
   ]
  },
  {
   "cell_type": "code",
   "execution_count": 10,
   "metadata": {},
   "outputs": [
    {
     "name": "stderr",
     "output_type": "stream",
     "text": [
      "/tmp/ipykernel_2272/2063546433.py:3: FutureWarning: adjacency_matrix will return a scipy.sparse array instead of a matrix in Networkx 3.0.\n",
      "  A = nx.adjacency_matrix(G)\n"
     ]
    }
   ],
   "source": [
    "clustering_of_largest_cc = spectral_clustering(subG, 50)\n",
    "# print(clustering_of_largest_cc)"
   ]
  },
  {
   "cell_type": "markdown",
   "metadata": {},
   "source": [
    "## 3.2 Modularity"
   ]
  },
  {
   "cell_type": "code",
   "execution_count": 54,
   "metadata": {},
   "outputs": [],
   "source": [
    "def modularity(G, clustering):\n",
    "    m = G.number_of_edges()\n",
    "    communities = list(set(clustering.values()))\n",
    "\n",
    "    Q = 0\n",
    "    for c in communities:\n",
    "        nodes = []\n",
    "        for node, cluster in clustering.items():\n",
    "            if cluster == c:\n",
    "                nodes.append(node)\n",
    "\n",
    "        dc = sum([G.degree(node) for node in nodes])\n",
    "\n",
    "        lc = G.subgraph(nodes).number_of_edges()\n",
    "\n",
    "        Q += (lc / m) - (dc / (2 * m)) ** 2\n",
    "\n",
    "    return Q"
   ]
  },
  {
   "cell_type": "code",
   "execution_count": 55,
   "metadata": {},
   "outputs": [],
   "source": [
    "G = nx.Graph()\n",
    "G.add_nodes_from([1, 2, 3, 4, 5, 6, 7, 8, 9])\n",
    "G.add_edges_from(\n",
    "    [\n",
    "        (1, 2),\n",
    "        (1, 3),\n",
    "        (1, 4),\n",
    "        (2, 1),\n",
    "        (2, 3),\n",
    "        (3, 1),\n",
    "        (3, 2),\n",
    "        (3, 4),\n",
    "        (4, 1),\n",
    "        (4, 3),\n",
    "        (4, 5),\n",
    "        (5, 4),\n",
    "        (5, 6),\n",
    "        (6, 7),\n",
    "        (6, 8),\n",
    "        (6, 9),\n",
    "        (7, 6),\n",
    "        (7, 8),\n",
    "        (7, 9),\n",
    "        (8, 6),\n",
    "        (8, 7),\n",
    "        (8, 9),\n",
    "        (9, 6),\n",
    "        (9, 7),\n",
    "        (9, 8),\n",
    "    ]\n",
    ")"
   ]
  },
  {
   "cell_type": "code",
   "execution_count": 56,
   "metadata": {},
   "outputs": [
    {
     "data": {
      "image/png": "[encoded data removed]",
      "text/plain": [
       "<Figure size 640x480 with 1 Axes>"
      ]
     },
     "metadata": {},
     "output_type": "display_data"
    }
   ],
   "source": [
    "nx.draw(G)"
   ]
  },
  {
   "cell_type": "code",
   "execution_count": 57,
   "metadata": {},
   "outputs": [
    {
     "data": {
      "text/plain": [
       "0.42307692307692313"
      ]
     },
     "execution_count": 57,
     "metadata": {},
     "output_type": "execute_result"
    }
   ],
   "source": [
    "clustering = {1: 0, 2: 0, 3: 0, 4: 0, 5: 0, 6: 1, 7: 1, 8: 1, 9: 1}\n",
    "modularity(G, clustering)"
   ]
  },
  {
   "cell_type": "code",
   "execution_count": 58,
   "metadata": {},
   "outputs": [
    {
     "data": {
      "text/plain": [
       "-0.050295857988165577"
      ]
     },
     "execution_count": 58,
     "metadata": {},
     "output_type": "execute_result"
    }
   ],
   "source": [
    "clustering = {1: 0, 2: 0, 3: 1, 4: 1, 5: 1, 6: 1, 7: 1, 8: 0, 9: 0}\n",
    "modularity(G, clustering)"
   ]
  },
  {
   "cell_type": "markdown",
   "metadata": {},
   "source": [
    "# 4 Graph Classification using Graph Kernels\n",
    "## 4.1 Dataset Generation\n",
    "\n",
    "Task 10"
   ]
  },
  {
   "cell_type": "code",
   "execution_count": 11,
   "metadata": {},
   "outputs": [],
   "source": [
    "import networkx as nx\n",
    "import numpy as np\n",
    "from sklearn.model_selection import train_test_split\n",
    "from sklearn.svm import SVC\n",
    "from sklearn.metrics import accuracy_score"
   ]
  },
  {
   "cell_type": "code",
   "execution_count": 12,
   "metadata": {},
   "outputs": [],
   "source": [
    "def create_dataset():\n",
    "    Gs = list()\n",
    "    y = list()\n",
    "\n",
    "    for i in range(3, 103):\n",
    "        G = nx.cycle_graph(i)\n",
    "        Gs.append(G)\n",
    "        y.append(0)\n",
    "\n",
    "        G = nx.path_graph(i)\n",
    "        Gs.append(G)\n",
    "        y.append(1)\n",
    "\n",
    "    return Gs, y"
   ]
  },
  {
   "cell_type": "code",
   "execution_count": 13,
   "metadata": {},
   "outputs": [],
   "source": [
    "Gs, y = create_dataset()\n",
    "G_train, G_test, y_train, y_test = train_test_split(Gs, y, test_size=0.1)"
   ]
  },
  {
   "cell_type": "code",
   "execution_count": 14,
   "metadata": {},
   "outputs": [
    {
     "data": {
      "image/png": "[encoded data removed]",
      "text/plain": [
       "<Figure size 640x480 with 1 Axes>"
      ]
     },
     "metadata": {},
     "output_type": "display_data"
    }
   ],
   "source": [
    "nx.draw(Gs[101])"
   ]
  },
  {
   "cell_type": "code",
   "execution_count": 15,
   "metadata": {},
   "outputs": [],
   "source": [
    "def shortest_path_kernel(Gs_train, Gs_test):\n",
    "    all_paths = dict()\n",
    "    sp_counts_train = dict()\n",
    "\n",
    "    for i, G in enumerate(Gs_train):\n",
    "        sp_lengths = dict(nx.shortest_path_length(G))\n",
    "        sp_counts_train[i] = dict()\n",
    "        nodes = G.nodes()\n",
    "        for v1 in nodes:\n",
    "            for v2 in nodes:\n",
    "                if v2 in sp_lengths[v1]:\n",
    "                    length = sp_lengths[v1][v2]\n",
    "                    if length in sp_counts_train[i]:\n",
    "                        sp_counts_train[i][length] += 1\n",
    "                    else:\n",
    "                        sp_counts_train[i][length] = 1\n",
    "\n",
    "                    if length not in all_paths:\n",
    "                        all_paths[length] = len(all_paths)\n",
    "\n",
    "    sp_counts_test = dict()\n",
    "\n",
    "    for i, G in enumerate(Gs_test):\n",
    "        sp_lengths = dict(nx.shortest_path_length(G))\n",
    "        sp_counts_test[i] = dict()\n",
    "        nodes = G.nodes()\n",
    "        for v1 in nodes:\n",
    "            for v2 in nodes:\n",
    "                if v2 in sp_lengths[v1]:\n",
    "                    length = sp_lengths[v1][v2]\n",
    "                    if length in sp_counts_test[i]:\n",
    "                        sp_counts_test[i][length] += 1\n",
    "                    else:\n",
    "                        sp_counts_test[i][length] = 1\n",
    "\n",
    "                    if length not in all_paths:\n",
    "                        all_paths[length] = len(all_paths)\n",
    "\n",
    "    phi_train = np.zeros((len(Gs_train), len(all_paths)))\n",
    "    for i in range(len(Gs_train)):\n",
    "        for length in sp_counts_train[i]:\n",
    "            phi_train[i, all_paths[length]] = sp_counts_train[i][length]\n",
    "\n",
    "    phi_test = np.zeros((len(Gs_test), len(all_paths)))\n",
    "    for i in range(len(Gs_test)):\n",
    "        for length in sp_counts_test[i]:\n",
    "            phi_test[i, all_paths[length]] = sp_counts_test[i][length]\n",
    "\n",
    "    K_train = np.dot(phi_train, phi_train.T)\n",
    "    K_test = np.dot(phi_test, phi_train.T)\n",
    "\n",
    "    return K_train, K_test"
   ]
  },
  {
   "cell_type": "markdown",
   "metadata": {},
   "source": [
    "Task 11"
   ]
  },
  {
   "cell_type": "code",
   "execution_count": 16,
   "metadata": {},
   "outputs": [],
   "source": [
    "def graphlet_kernel(Gs_train, Gs_test, n_samples=200):\n",
    "    graphlets = [nx.Graph(), nx.Graph(), nx.Graph(), nx.Graph()]\n",
    "\n",
    "    graphlets[0].add_nodes_from(range(3))\n",
    "\n",
    "    graphlets[1].add_nodes_from(range(3))\n",
    "    graphlets[1].add_edge(0, 1)\n",
    "\n",
    "    graphlets[2].add_nodes_from(range(3))\n",
    "    graphlets[2].add_edge(0, 1)\n",
    "    graphlets[2].add_edge(1, 2)\n",
    "\n",
    "    graphlets[3].add_nodes_from(range(3))\n",
    "    graphlets[3].add_edge(0, 1)\n",
    "    graphlets[3].add_edge(1, 2)\n",
    "    graphlets[3].add_edge(0, 2)\n",
    "\n",
    "    phi_train = np.zeros((len(Gs_train), 4))\n",
    "\n",
    "    for i, G in enumerate(Gs_train):\n",
    "        nodes = list(G.nodes())\n",
    "        for _ in range(n_samples):\n",
    "            subset_nodes = np.random.choice(nodes, 3, replace=False)\n",
    "            subG = G.subgraph(subset_nodes)\n",
    "            if nx.is_isomorphic(subG, graphlets[0]):\n",
    "                phi_train[i, 0] += 1\n",
    "            elif nx.is_isomorphic(subG, graphlets[1]):\n",
    "                phi_train[i, 1] += 1\n",
    "            elif nx.is_isomorphic(subG, graphlets[2]):\n",
    "                phi_train[i, 2] += 1\n",
    "            else:\n",
    "                phi_train[i, 3] += 1\n",
    "\n",
    "    phi_test = np.zeros((len(Gs_test), 4))\n",
    "\n",
    "    for i, G in enumerate(Gs_test):\n",
    "        nodes = list(G.nodes())\n",
    "        for _ in range(n_samples):\n",
    "            subset_nodes = np.random.choice(nodes, 3, replace=False)\n",
    "            subG = G.subgraph(subset_nodes)\n",
    "            if nx.is_isomorphic(subG, graphlets[0]):\n",
    "                phi_test[i, 0] += 1\n",
    "            elif nx.is_isomorphic(subG, graphlets[1]):\n",
    "                phi_test[i, 1] += 1\n",
    "            elif nx.is_isomorphic(subG, graphlets[2]):\n",
    "                phi_test[i, 2] += 1\n",
    "            else:\n",
    "                phi_test[i, 3] += 1\n",
    "\n",
    "    K_train = np.dot(phi_train, phi_train.T)\n",
    "    K_test = np.dot(phi_test, phi_train.T)\n",
    "\n",
    "    return K_train, K_test"
   ]
  },
  {
   "cell_type": "markdown",
   "metadata": {},
   "source": [
    "Task 12"
   ]
  },
  {
   "cell_type": "code",
   "execution_count": 17,
   "metadata": {},
   "outputs": [],
   "source": [
    "K_train_sp, K_test_sp = shortest_path_kernel(G_train, G_test)\n",
    "K_train_gr, K_test_gr = graphlet_kernel(G_train, G_test)"
   ]
  },
  {
   "cell_type": "markdown",
   "metadata": {},
   "source": [
    "Task 13"
   ]
  },
  {
   "cell_type": "code",
   "execution_count": 18,
   "metadata": {},
   "outputs": [
    {
     "name": "stdout",
     "output_type": "stream",
     "text": [
      "Accuracy with shortest path kernel : 0.95\n",
      "Accuracy with graphlet kernel : 0.45\n"
     ]
    }
   ],
   "source": [
    "clf = SVC(kernel=\"precomputed\")\n",
    "clf.fit(K_train_sp, y_train)\n",
    "y_pred_sp = clf.predict(K_test_sp)\n",
    "\n",
    "clf = SVC(kernel=\"precomputed\")\n",
    "clf.fit(K_train_gr, y_train)\n",
    "y_pred_gr = clf.predict(K_test_gr)\n",
    "\n",
    "print(\"Accuracy with shortest path kernel :\", accuracy_score(y_test, y_pred_sp))\n",
    "print(\"Accuracy with graphlet kernel :\", accuracy_score(y_test, y_pred_gr))"
   ]
  }
 ],
 "metadata": {
  "kernelspec": {
   "display_name": "Python 3.10.7 ('m2ds-altegrad-ikUkGiM0-py3.10')",
   "language": "python",
   "name": "python3"
  },
  "language_info": {
   "codemirror_mode": {
    "name": "ipython",
    "version": 3
   },
   "file_extension": ".py",
   "mimetype": "text/x-python",
   "name": "python",
   "nbconvert_exporter": "python",
   "pygments_lexer": "ipython3",
   "version": "3.10.7"
  },
  "orig_nbformat": 4,
  "vscode": {
   "interpreter": {
    "hash": "d314033c92c59146dc96a5803a32fdd7cb71bb9b4b5487fe4a3964e1ceb72c8c"
   }
  }
 },
 "nbformat": 4,
 "nbformat_minor": 2
}
